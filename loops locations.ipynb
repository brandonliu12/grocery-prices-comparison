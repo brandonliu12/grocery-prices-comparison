{
 "cells": [
  {
   "cell_type": "code",
   "execution_count": 24,
   "id": "69d08b79",
   "metadata": {},
   "outputs": [
    {
     "name": "stderr",
     "output_type": "stream",
     "text": [
      "C:\\Users\\Pradivan\\AppData\\Local\\Temp\\ipykernel_20204\\2852072523.py:12: DeprecationWarning: executable_path has been deprecated, please pass in a Service object\n",
      "  driver = webdriver.Chrome(executable_path=executable_path)\n"
     ]
    }
   ],
   "source": [
    "import time\n",
    "import pandas as pd\n",
    "from selenium import webdriver\n",
    "from selenium.webdriver.support.ui import WebDriverWait\n",
    "from selenium.webdriver.support import expected_conditions as EC\n",
    "from selenium.webdriver.common.by import By\n",
    "from selenium.common.exceptions import NoSuchElementException\n",
    "from selenium.webdriver.common.keys import Keys\n",
    "import re\n",
    "\n",
    "executable_path = r\"C:\\Program Files\\Common Files\\chromedriver_win32\\chromedriver.exe\"\n",
    "driver = webdriver.Chrome(executable_path=executable_path)\n",
    "\n",
    "# List of locations\n",
    "locations = ['lonsdale city market', 'mclaughlin road mississauga', 'loblaws city market brewery district edmonton', 'mcarthur avenue vanier']\n",
    "\n",
    "grocery_list = []\n",
    "\n",
    "# Loop through each location\n",
    "for location in locations:\n",
    "    url = 'https://www.loblaws.ca/store-locator?type=store&icta=pickup-details-modal'\n",
    "    driver.get(url)\n",
    "\n",
    "    # Add a delay of 2 seconds before locating the element\n",
    "    time.sleep(5)\n",
    "    \n",
    "    # Find the location search input field\n",
    "    search_input = driver.find_element(By.ID, 'location-search__search__input')\n",
    "\n",
    "    # Clear the input field if it already has a value\n",
    "    search_input.clear()\n",
    "\n",
    "    # Enter the desired address or location\n",
    "    search_input.send_keys(location)\n",
    "\n",
    "    # Press Enter to perform the search\n",
    "    search_input.send_keys(Keys.ENTER)\n",
    "    \n",
    "    # Add a delay of 2 seconds before locating the element\n",
    "    time.sleep(5)\n",
    "\n",
    "    select_location_button = driver.find_element(By.CSS_SELECTOR, 'button.location-set-store__button')\n",
    "    driver.execute_script(\"arguments[0].click();\", select_location_button)\n",
    "    \n",
    "    # Add a delay of 2 seconds before locating the element\n",
    "    time.sleep(5)\n",
    "\n",
    "    # Wait for the button to be clickable\n",
    "    wait = WebDriverWait(driver, 10)\n",
    "    continue_shopping_button = WebDriverWait(driver, 10).until(EC.element_to_be_clickable((By.CSS_SELECTOR, 'a.fulfillment-location-confirmation__actions__button')))\n",
    "    continue_shopping_button.click()\n",
    "\n",
    "\n",
    "    url = 'https://www.loblaws.ca/food/fruits-vegetables/c/28000?navid=flyout-L2-fruits-vegetables'\n",
    "    driver.get(url)\n",
    "\n",
    "    while True:\n",
    "        # Wait for the groceries to load\n",
    "        wait = WebDriverWait(driver, 20)\n",
    "        groceries = wait.until(EC.presence_of_all_elements_located((By.CLASS_NAME, 'product-tracking')))\n",
    "        \n",
    "        for grocery in groceries:\n",
    "            try:\n",
    "                brand = grocery.find_element(By.CLASS_NAME, 'product-name__item--brand').text\n",
    "            except:\n",
    "                brand = \"Unknown\"\n",
    "\n",
    "            try:\n",
    "                product = grocery.find_element(By.CLASS_NAME, 'product-name__item--name').text\n",
    "            except:\n",
    "                product = \"Unknown\"\n",
    "\n",
    "            try:\n",
    "                price_text = grocery.find_element(By.CLASS_NAME, 'selling-price-list__item__price--now-price__value').text\n",
    "                price = float(re.search(r'[\\d.]+', price_text).group())\n",
    "            except:\n",
    "                price = 0.0\n",
    "\n",
    "            grocery_dict = {'product brand': brand, \"product name\": product, \"price\": price, \"store name\": location.upper()}\n",
    "            grocery_list.append(grocery_dict)\n",
    "        \n",
    "        try:\n",
    "            # Scroll to the end of the page\n",
    "            driver.execute_script(\"window.scrollTo(0, document.body.scrollHeight);\")\n",
    "            time.sleep(2)  # Wait for the page to load\n",
    "            \n",
    "            # Find the \"Load More\" button\n",
    "            load_more_button = driver.find_element(By.CSS_SELECTOR, '.primary-button.primary-button--load-more-button')\n",
    "            if load_more_button.is_displayed():\n",
    "                load_more_button.click()\n",
    "            else:\n",
    "                break\n",
    "        except NoSuchElementException:\n",
    "            break\n",
    "        except Exception as e:\n",
    "            print(str(e))\n",
    "            break\n",
    "\n",
    "# Convert the grocery_list to a pandas DataFrame\n",
    "df = pd.DataFrame(grocery_list)\n",
    "\n"
   ]
  },
  {
   "cell_type": "code",
   "execution_count": null,
   "id": "0af62e66",
   "metadata": {},
   "outputs": [],
   "source": [
    "browser.quit()"
   ]
  },
  {
   "cell_type": "code",
   "execution_count": 25,
   "id": "d58c53e0",
   "metadata": {},
   "outputs": [
    {
     "name": "stdout",
     "output_type": "stream",
     "text": [
      "  product brand                      product name  price            store name\n",
      "0       Unknown                    Bananas, Bunch   2.00  LONSDALE CITY MARKET\n",
      "1       Unknown                  Strawberries 1LB   6.49  LONSDALE CITY MARKET\n",
      "2       Unknown                  English Cucumber   1.99  LONSDALE CITY MARKET\n",
      "3       Unknown           Red Seedless Watermelon   8.99  LONSDALE CITY MARKET\n",
      "4       Unknown                       Green Onion   1.99  LONSDALE CITY MARKET\n",
      "5       Unknown                      Red Cherries  13.71  LONSDALE CITY MARKET\n",
      "6       Unknown                         Asparagus   6.49  LONSDALE CITY MARKET\n",
      "7       Unknown  Tomato On The Vine Red (1 Bunch)   4.68  LONSDALE CITY MARKET\n",
      "8       Unknown             Romaine Heart, 3 Pack   3.99  LONSDALE CITY MARKET\n",
      "9       Unknown              Tomato Beefsteak Red   1.47  LONSDALE CITY MARKET\n"
     ]
    }
   ],
   "source": [
    "print(df.head(10))"
   ]
  },
  {
   "cell_type": "code",
   "execution_count": 31,
   "id": "c5fe979b",
   "metadata": {},
   "outputs": [
    {
     "name": "stdout",
     "output_type": "stream",
     "text": [
      "      product brand                      product name  price  \\\n",
      "0           Unknown                    Bananas, Bunch   2.00   \n",
      "1           Unknown                  Strawberries 1LB   6.49   \n",
      "2           Unknown                  English Cucumber   1.99   \n",
      "3           Unknown           Red Seedless Watermelon   8.99   \n",
      "4           Unknown                       Green Onion   1.99   \n",
      "5           Unknown                      Red Cherries  13.71   \n",
      "6           Unknown                         Asparagus   6.49   \n",
      "7           Unknown  Tomato On The Vine Red (1 Bunch)   4.68   \n",
      "8           Unknown             Romaine Heart, 3 Pack   3.99   \n",
      "9           Unknown              Tomato Beefsteak Red   1.47   \n",
      "10          Unknown                   Lettuce Iceberg   3.99   \n",
      "11          Unknown                      Avocados Bag   6.49   \n",
      "12          Unknown                             Lemon   0.99   \n",
      "13  Farmer's Market                     Yellow Onions   3.49   \n",
      "14          Unknown                  Strawberries 2LB   9.99   \n",
      "15          Unknown                       Red Peppers   2.64   \n",
      "16          Unknown                     Celery Stalks   3.99   \n",
      "17          Unknown                         Red Onion   2.44   \n",
      "18          Unknown                          Zucchini   1.85   \n",
      "19          Unknown   Bi-Colour Corn, Corn on the Cob   0.99   \n",
      "\n",
      "             store name  \n",
      "0   Lonsdale, Vancouver  \n",
      "1   Lonsdale, Vancouver  \n",
      "2   Lonsdale, Vancouver  \n",
      "3   Lonsdale, Vancouver  \n",
      "4   Lonsdale, Vancouver  \n",
      "5   Lonsdale, Vancouver  \n",
      "6   Lonsdale, Vancouver  \n",
      "7   Lonsdale, Vancouver  \n",
      "8   Lonsdale, Vancouver  \n",
      "9   Lonsdale, Vancouver  \n",
      "10  Lonsdale, Vancouver  \n",
      "11  Lonsdale, Vancouver  \n",
      "12  Lonsdale, Vancouver  \n",
      "13  Lonsdale, Vancouver  \n",
      "14  Lonsdale, Vancouver  \n",
      "15  Lonsdale, Vancouver  \n",
      "16  Lonsdale, Vancouver  \n",
      "17  Lonsdale, Vancouver  \n",
      "18  Lonsdale, Vancouver  \n",
      "19  Lonsdale, Vancouver  \n"
     ]
    }
   ],
   "source": [
    "store_mapping = {\n",
    "    'LONSDALE CITY MARKET': 'Lonsdale, Vancouver',\n",
    "    'MCLAUGHLIN ROAD MISSISSAUGA': 'Mclaughlin, Toronto',\n",
    "    'LOBLAWS CITY MARKET BREWERY DISTRICT EDMONTON': 'Brewery Dist, Edmonton',\n",
    "    'MCARTHUR AVENUE VANIER': 'Mcarthur, Ottawa'\n",
    "}\n",
    "\n",
    "# Replace the store names in the DataFrame\n",
    "df['store name'] = df['store name'].replace(store_mapping)\n",
    "\n",
    "# Display the modified DataFrame\n",
    "print(df.head(20))"
   ]
  },
  {
   "cell_type": "code",
   "execution_count": 32,
   "id": "7061672a",
   "metadata": {},
   "outputs": [
    {
     "name": "stdout",
     "output_type": "stream",
     "text": [
      "19495\n"
     ]
    }
   ],
   "source": [
    "print(len(df))"
   ]
  },
  {
   "cell_type": "code",
   "execution_count": 33,
   "id": "b9607c83",
   "metadata": {},
   "outputs": [],
   "source": [
    "df.to_csv('Loblaws price city comparison.csv', index=False)"
   ]
  },
  {
   "cell_type": "code",
   "execution_count": 9,
   "id": "83ae7e17",
   "metadata": {},
   "outputs": [],
   "source": [
    "import pandas as pd\n",
    "# Load the CSV file into a DataFrame\n",
    "df = pd.read_csv('Loblaws price city comparison.csv')"
   ]
  },
  {
   "cell_type": "code",
   "execution_count": 10,
   "id": "4bf4a905",
   "metadata": {},
   "outputs": [],
   "source": [
    "# Remove duplicate rows based on product name and store name\n",
    "df_unique = df.drop_duplicates(subset=['product name', 'store name'])\n",
    "\n",
    "# Save the unique DataFrame to a new CSV file\n",
    "df_unique.to_csv('Unique_Loblaws_price_comparison.csv', index=False)"
   ]
  },
  {
   "cell_type": "code",
   "execution_count": 11,
   "id": "d44db2c5",
   "metadata": {},
   "outputs": [],
   "source": [
    "# Load the CSV file into a DataFrame\n",
    "df = pd.read_csv('Unique_Loblaws_price_comparison.csv')\n",
    "\n",
    "# Create a pivot table to merge the data based on product name and store name\n",
    "df_pivot = df.pivot_table(index='product name', columns='store name', values='price', aggfunc='first')\n",
    "\n",
    "# Reset the index to make the product name a column\n",
    "df_pivot = df_pivot.reset_index()\n",
    "\n",
    "# Save the merged DataFrame to a new CSV file\n",
    "df_pivot.to_csv('Merged_Loblaws_price_comparison.csv', index=False)"
   ]
  },
  {
   "cell_type": "code",
   "execution_count": 12,
   "id": "ed348e7a",
   "metadata": {},
   "outputs": [],
   "source": [
    "# Load the merged DataFrame\n",
    "df_pivot = pd.read_csv('Merged_Loblaws_price_comparison.csv')\n",
    "\n",
    "# Sort the DataFrame by product name in alphabetical order\n",
    "df_pivot = df_pivot.sort_values(by='product name')\n",
    "\n",
    "# Reset the index\n",
    "df_pivot = df_pivot.reset_index(drop=True)\n",
    "\n",
    "# Add a product ID column\n",
    "df_pivot['product id'] = range(1, len(df_pivot) + 1)\n",
    "\n",
    "# Save the updated DataFrame to a new CSV file\n",
    "df_pivot.to_csv('Sorted_Merged_Loblaws_price_comparison.csv', index=False)"
   ]
  },
  {
   "cell_type": "code",
   "execution_count": 13,
   "id": "2220f6eb",
   "metadata": {},
   "outputs": [],
   "source": [
    "# Load the sorted and merged DataFrame\n",
    "df_sorted_merged = pd.read_csv('Sorted_Merged_Loblaws_price_comparison.csv')\n",
    "\n",
    "# Move 'product id' column as the first column\n",
    "cols = df_sorted_merged.columns.tolist()\n",
    "cols = ['product id'] + [col for col in cols if col != 'product id']\n",
    "df_sorted_merged = df_sorted_merged[cols]\n",
    "\n",
    "# Save the updated DataFrame to a new CSV file\n",
    "df_sorted_merged.to_csv('Sorted_Merged_Loblaws_price_comparison.csv', index=False)"
   ]
  },
  {
   "cell_type": "code",
   "execution_count": 2,
   "id": "f2b550de",
   "metadata": {},
   "outputs": [
    {
     "ename": "FileNotFoundError",
     "evalue": "[Errno 2] No such file or directory: 'Sorted_Merged_Loblaws_price_comparison.csv'",
     "output_type": "error",
     "traceback": [
      "\u001b[1;31m---------------------------------------------------------------------------\u001b[0m",
      "\u001b[1;31mFileNotFoundError\u001b[0m                         Traceback (most recent call last)",
      "\u001b[1;32m~\\AppData\\Local\\Temp\\ipykernel_3116\\4200955619.py\u001b[0m in \u001b[0;36m<module>\u001b[1;34m\u001b[0m\n\u001b[0;32m      1\u001b[0m \u001b[1;32mimport\u001b[0m \u001b[0mnumpy\u001b[0m \u001b[1;32mas\u001b[0m \u001b[0mnp\u001b[0m\u001b[1;33m\u001b[0m\u001b[1;33m\u001b[0m\u001b[0m\n\u001b[0;32m      2\u001b[0m \u001b[1;32mimport\u001b[0m \u001b[0mpandas\u001b[0m \u001b[1;32mas\u001b[0m \u001b[0mpd\u001b[0m\u001b[1;33m\u001b[0m\u001b[1;33m\u001b[0m\u001b[0m\n\u001b[1;32m----> 3\u001b[1;33m \u001b[0mdf_sorted_merged\u001b[0m \u001b[1;33m=\u001b[0m \u001b[0mpd\u001b[0m\u001b[1;33m.\u001b[0m\u001b[0mread_csv\u001b[0m\u001b[1;33m(\u001b[0m\u001b[1;34m'Sorted_Merged_Loblaws_price_comparison.csv'\u001b[0m\u001b[1;33m)\u001b[0m\u001b[1;33m\u001b[0m\u001b[1;33m\u001b[0m\u001b[0m\n\u001b[0m\u001b[0;32m      4\u001b[0m \u001b[1;31m# Replace empty cells with NaN\u001b[0m\u001b[1;33m\u001b[0m\u001b[1;33m\u001b[0m\u001b[0m\n\u001b[0;32m      5\u001b[0m \u001b[0mdf\u001b[0m\u001b[1;33m.\u001b[0m\u001b[0mreplace\u001b[0m\u001b[1;33m(\u001b[0m\u001b[1;34m\"\"\u001b[0m\u001b[1;33m,\u001b[0m \u001b[0mnp\u001b[0m\u001b[1;33m.\u001b[0m\u001b[0mnan\u001b[0m\u001b[1;33m,\u001b[0m \u001b[0minplace\u001b[0m\u001b[1;33m=\u001b[0m\u001b[1;32mTrue\u001b[0m\u001b[1;33m)\u001b[0m\u001b[1;33m\u001b[0m\u001b[1;33m\u001b[0m\u001b[0m\n",
      "\u001b[1;32m~\\anaconda3\\lib\\site-packages\\pandas\\util\\_decorators.py\u001b[0m in \u001b[0;36mwrapper\u001b[1;34m(*args, **kwargs)\u001b[0m\n\u001b[0;32m    209\u001b[0m                 \u001b[1;32melse\u001b[0m\u001b[1;33m:\u001b[0m\u001b[1;33m\u001b[0m\u001b[1;33m\u001b[0m\u001b[0m\n\u001b[0;32m    210\u001b[0m                     \u001b[0mkwargs\u001b[0m\u001b[1;33m[\u001b[0m\u001b[0mnew_arg_name\u001b[0m\u001b[1;33m]\u001b[0m \u001b[1;33m=\u001b[0m \u001b[0mnew_arg_value\u001b[0m\u001b[1;33m\u001b[0m\u001b[1;33m\u001b[0m\u001b[0m\n\u001b[1;32m--> 211\u001b[1;33m             \u001b[1;32mreturn\u001b[0m \u001b[0mfunc\u001b[0m\u001b[1;33m(\u001b[0m\u001b[1;33m*\u001b[0m\u001b[0margs\u001b[0m\u001b[1;33m,\u001b[0m \u001b[1;33m**\u001b[0m\u001b[0mkwargs\u001b[0m\u001b[1;33m)\u001b[0m\u001b[1;33m\u001b[0m\u001b[1;33m\u001b[0m\u001b[0m\n\u001b[0m\u001b[0;32m    212\u001b[0m \u001b[1;33m\u001b[0m\u001b[0m\n\u001b[0;32m    213\u001b[0m         \u001b[1;32mreturn\u001b[0m \u001b[0mcast\u001b[0m\u001b[1;33m(\u001b[0m\u001b[0mF\u001b[0m\u001b[1;33m,\u001b[0m \u001b[0mwrapper\u001b[0m\u001b[1;33m)\u001b[0m\u001b[1;33m\u001b[0m\u001b[1;33m\u001b[0m\u001b[0m\n",
      "\u001b[1;32m~\\anaconda3\\lib\\site-packages\\pandas\\util\\_decorators.py\u001b[0m in \u001b[0;36mwrapper\u001b[1;34m(*args, **kwargs)\u001b[0m\n\u001b[0;32m    329\u001b[0m                     \u001b[0mstacklevel\u001b[0m\u001b[1;33m=\u001b[0m\u001b[0mfind_stack_level\u001b[0m\u001b[1;33m(\u001b[0m\u001b[1;33m)\u001b[0m\u001b[1;33m,\u001b[0m\u001b[1;33m\u001b[0m\u001b[1;33m\u001b[0m\u001b[0m\n\u001b[0;32m    330\u001b[0m                 )\n\u001b[1;32m--> 331\u001b[1;33m             \u001b[1;32mreturn\u001b[0m \u001b[0mfunc\u001b[0m\u001b[1;33m(\u001b[0m\u001b[1;33m*\u001b[0m\u001b[0margs\u001b[0m\u001b[1;33m,\u001b[0m \u001b[1;33m**\u001b[0m\u001b[0mkwargs\u001b[0m\u001b[1;33m)\u001b[0m\u001b[1;33m\u001b[0m\u001b[1;33m\u001b[0m\u001b[0m\n\u001b[0m\u001b[0;32m    332\u001b[0m \u001b[1;33m\u001b[0m\u001b[0m\n\u001b[0;32m    333\u001b[0m         \u001b[1;31m# error: \"Callable[[VarArg(Any), KwArg(Any)], Any]\" has no\u001b[0m\u001b[1;33m\u001b[0m\u001b[1;33m\u001b[0m\u001b[0m\n",
      "\u001b[1;32m~\\anaconda3\\lib\\site-packages\\pandas\\io\\parsers\\readers.py\u001b[0m in \u001b[0;36mread_csv\u001b[1;34m(filepath_or_buffer, sep, delimiter, header, names, index_col, usecols, squeeze, prefix, mangle_dupe_cols, dtype, engine, converters, true_values, false_values, skipinitialspace, skiprows, skipfooter, nrows, na_values, keep_default_na, na_filter, verbose, skip_blank_lines, parse_dates, infer_datetime_format, keep_date_col, date_parser, dayfirst, cache_dates, iterator, chunksize, compression, thousands, decimal, lineterminator, quotechar, quoting, doublequote, escapechar, comment, encoding, encoding_errors, dialect, error_bad_lines, warn_bad_lines, on_bad_lines, delim_whitespace, low_memory, memory_map, float_precision, storage_options)\u001b[0m\n\u001b[0;32m    948\u001b[0m     \u001b[0mkwds\u001b[0m\u001b[1;33m.\u001b[0m\u001b[0mupdate\u001b[0m\u001b[1;33m(\u001b[0m\u001b[0mkwds_defaults\u001b[0m\u001b[1;33m)\u001b[0m\u001b[1;33m\u001b[0m\u001b[1;33m\u001b[0m\u001b[0m\n\u001b[0;32m    949\u001b[0m \u001b[1;33m\u001b[0m\u001b[0m\n\u001b[1;32m--> 950\u001b[1;33m     \u001b[1;32mreturn\u001b[0m \u001b[0m_read\u001b[0m\u001b[1;33m(\u001b[0m\u001b[0mfilepath_or_buffer\u001b[0m\u001b[1;33m,\u001b[0m \u001b[0mkwds\u001b[0m\u001b[1;33m)\u001b[0m\u001b[1;33m\u001b[0m\u001b[1;33m\u001b[0m\u001b[0m\n\u001b[0m\u001b[0;32m    951\u001b[0m \u001b[1;33m\u001b[0m\u001b[0m\n\u001b[0;32m    952\u001b[0m \u001b[1;33m\u001b[0m\u001b[0m\n",
      "\u001b[1;32m~\\anaconda3\\lib\\site-packages\\pandas\\io\\parsers\\readers.py\u001b[0m in \u001b[0;36m_read\u001b[1;34m(filepath_or_buffer, kwds)\u001b[0m\n\u001b[0;32m    603\u001b[0m \u001b[1;33m\u001b[0m\u001b[0m\n\u001b[0;32m    604\u001b[0m     \u001b[1;31m# Create the parser.\u001b[0m\u001b[1;33m\u001b[0m\u001b[1;33m\u001b[0m\u001b[0m\n\u001b[1;32m--> 605\u001b[1;33m     \u001b[0mparser\u001b[0m \u001b[1;33m=\u001b[0m \u001b[0mTextFileReader\u001b[0m\u001b[1;33m(\u001b[0m\u001b[0mfilepath_or_buffer\u001b[0m\u001b[1;33m,\u001b[0m \u001b[1;33m**\u001b[0m\u001b[0mkwds\u001b[0m\u001b[1;33m)\u001b[0m\u001b[1;33m\u001b[0m\u001b[1;33m\u001b[0m\u001b[0m\n\u001b[0m\u001b[0;32m    606\u001b[0m \u001b[1;33m\u001b[0m\u001b[0m\n\u001b[0;32m    607\u001b[0m     \u001b[1;32mif\u001b[0m \u001b[0mchunksize\u001b[0m \u001b[1;32mor\u001b[0m \u001b[0miterator\u001b[0m\u001b[1;33m:\u001b[0m\u001b[1;33m\u001b[0m\u001b[1;33m\u001b[0m\u001b[0m\n",
      "\u001b[1;32m~\\anaconda3\\lib\\site-packages\\pandas\\io\\parsers\\readers.py\u001b[0m in \u001b[0;36m__init__\u001b[1;34m(self, f, engine, **kwds)\u001b[0m\n\u001b[0;32m   1440\u001b[0m \u001b[1;33m\u001b[0m\u001b[0m\n\u001b[0;32m   1441\u001b[0m         \u001b[0mself\u001b[0m\u001b[1;33m.\u001b[0m\u001b[0mhandles\u001b[0m\u001b[1;33m:\u001b[0m \u001b[0mIOHandles\u001b[0m \u001b[1;33m|\u001b[0m \u001b[1;32mNone\u001b[0m \u001b[1;33m=\u001b[0m \u001b[1;32mNone\u001b[0m\u001b[1;33m\u001b[0m\u001b[1;33m\u001b[0m\u001b[0m\n\u001b[1;32m-> 1442\u001b[1;33m         \u001b[0mself\u001b[0m\u001b[1;33m.\u001b[0m\u001b[0m_engine\u001b[0m \u001b[1;33m=\u001b[0m \u001b[0mself\u001b[0m\u001b[1;33m.\u001b[0m\u001b[0m_make_engine\u001b[0m\u001b[1;33m(\u001b[0m\u001b[0mf\u001b[0m\u001b[1;33m,\u001b[0m \u001b[0mself\u001b[0m\u001b[1;33m.\u001b[0m\u001b[0mengine\u001b[0m\u001b[1;33m)\u001b[0m\u001b[1;33m\u001b[0m\u001b[1;33m\u001b[0m\u001b[0m\n\u001b[0m\u001b[0;32m   1443\u001b[0m \u001b[1;33m\u001b[0m\u001b[0m\n\u001b[0;32m   1444\u001b[0m     \u001b[1;32mdef\u001b[0m \u001b[0mclose\u001b[0m\u001b[1;33m(\u001b[0m\u001b[0mself\u001b[0m\u001b[1;33m)\u001b[0m \u001b[1;33m->\u001b[0m \u001b[1;32mNone\u001b[0m\u001b[1;33m:\u001b[0m\u001b[1;33m\u001b[0m\u001b[1;33m\u001b[0m\u001b[0m\n",
      "\u001b[1;32m~\\anaconda3\\lib\\site-packages\\pandas\\io\\parsers\\readers.py\u001b[0m in \u001b[0;36m_make_engine\u001b[1;34m(self, f, engine)\u001b[0m\n\u001b[0;32m   1733\u001b[0m                 \u001b[1;32mif\u001b[0m \u001b[1;34m\"b\"\u001b[0m \u001b[1;32mnot\u001b[0m \u001b[1;32min\u001b[0m \u001b[0mmode\u001b[0m\u001b[1;33m:\u001b[0m\u001b[1;33m\u001b[0m\u001b[1;33m\u001b[0m\u001b[0m\n\u001b[0;32m   1734\u001b[0m                     \u001b[0mmode\u001b[0m \u001b[1;33m+=\u001b[0m \u001b[1;34m\"b\"\u001b[0m\u001b[1;33m\u001b[0m\u001b[1;33m\u001b[0m\u001b[0m\n\u001b[1;32m-> 1735\u001b[1;33m             self.handles = get_handle(\n\u001b[0m\u001b[0;32m   1736\u001b[0m                 \u001b[0mf\u001b[0m\u001b[1;33m,\u001b[0m\u001b[1;33m\u001b[0m\u001b[1;33m\u001b[0m\u001b[0m\n\u001b[0;32m   1737\u001b[0m                 \u001b[0mmode\u001b[0m\u001b[1;33m,\u001b[0m\u001b[1;33m\u001b[0m\u001b[1;33m\u001b[0m\u001b[0m\n",
      "\u001b[1;32m~\\anaconda3\\lib\\site-packages\\pandas\\io\\common.py\u001b[0m in \u001b[0;36mget_handle\u001b[1;34m(path_or_buf, mode, encoding, compression, memory_map, is_text, errors, storage_options)\u001b[0m\n\u001b[0;32m    854\u001b[0m         \u001b[1;32mif\u001b[0m \u001b[0mioargs\u001b[0m\u001b[1;33m.\u001b[0m\u001b[0mencoding\u001b[0m \u001b[1;32mand\u001b[0m \u001b[1;34m\"b\"\u001b[0m \u001b[1;32mnot\u001b[0m \u001b[1;32min\u001b[0m \u001b[0mioargs\u001b[0m\u001b[1;33m.\u001b[0m\u001b[0mmode\u001b[0m\u001b[1;33m:\u001b[0m\u001b[1;33m\u001b[0m\u001b[1;33m\u001b[0m\u001b[0m\n\u001b[0;32m    855\u001b[0m             \u001b[1;31m# Encoding\u001b[0m\u001b[1;33m\u001b[0m\u001b[1;33m\u001b[0m\u001b[0m\n\u001b[1;32m--> 856\u001b[1;33m             handle = open(\n\u001b[0m\u001b[0;32m    857\u001b[0m                 \u001b[0mhandle\u001b[0m\u001b[1;33m,\u001b[0m\u001b[1;33m\u001b[0m\u001b[1;33m\u001b[0m\u001b[0m\n\u001b[0;32m    858\u001b[0m                 \u001b[0mioargs\u001b[0m\u001b[1;33m.\u001b[0m\u001b[0mmode\u001b[0m\u001b[1;33m,\u001b[0m\u001b[1;33m\u001b[0m\u001b[1;33m\u001b[0m\u001b[0m\n",
      "\u001b[1;31mFileNotFoundError\u001b[0m: [Errno 2] No such file or directory: 'Sorted_Merged_Loblaws_price_comparison.csv'"
     ]
    }
   ],
   "source": [
    "import numpy as np\n",
    "import pandas as pd\n",
    "df_sorted_merged = pd.read_csv('Sorted_Merged_Loblaws_price_comparison.csv')\n",
    "# Replace empty cells with NaN\n",
    "df.replace(\"\", np.nan, inplace=True)\n",
    "# Save the updated DataFrame to a new CSV file\n",
    "df_sorted_merged.to_csv('Sorted_Merged_Loblaws_price_comparison.csv', index=False)"
   ]
  }
 ],
 "metadata": {
  "kernelspec": {
   "display_name": "Python 3 (ipykernel)",
   "language": "python",
   "name": "python3"
  },
  "language_info": {
   "codemirror_mode": {
    "name": "ipython",
    "version": 3
   },
   "file_extension": ".py",
   "mimetype": "text/x-python",
   "name": "python",
   "nbconvert_exporter": "python",
   "pygments_lexer": "ipython3",
   "version": "3.9.13"
  }
 },
 "nbformat": 4,
 "nbformat_minor": 5
}
