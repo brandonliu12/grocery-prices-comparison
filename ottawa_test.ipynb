{
 "cells": [
  {
   "cell_type": "code",
   "execution_count": 12,
   "id": "0d4af25b",
   "metadata": {},
   "outputs": [
    {
     "name": "stderr",
     "output_type": "stream",
     "text": [
      "C:\\Users\\Chris\\AppData\\Local\\Temp\\ipykernel_36624\\1621092237.py:11: DeprecationWarning: executable_path has been deprecated, please pass in a Service object\n",
      "  driver = webdriver.Chrome(executable_path=executable_path)\n"
     ]
    }
   ],
   "source": [
    "\n",
    "\n",
    "import time\n",
    "import pandas as pd\n",
    "from selenium import webdriver\n",
    "from selenium.webdriver.support.ui import WebDriverWait\n",
    "from selenium.webdriver.support import expected_conditions as EC\n",
    "from selenium.webdriver.common.by import By\n",
    "from selenium.common.exceptions import NoSuchElementException\n",
    "import re\n",
    "\n",
    "executable_path = r\"C:/Users/Chris/Downloads/chromedriver_win32/chromedriver.exe\"\n",
    "driver = webdriver.Chrome(executable_path=executable_path)\n",
    "\n",
    "url = 'https://www.loblaws.ca/store-locator?type=store&icta=pickup-details-modal'\n",
    "driver.get(url)\n",
    "\n",
    "\n"
   ]
  },
  {
   "cell_type": "code",
   "execution_count": 14,
   "id": "06a5300e",
   "metadata": {},
   "outputs": [],
   "source": [
    "\n",
    "\n",
    "from selenium.webdriver.common.keys import Keys\n",
    "\n",
    "# Find the location search input field\n",
    "search_input = driver.find_element(By.ID, 'location-search__search__input')\n",
    "\n",
    "# Clear the input field if it already has a value\n",
    "search_input.clear()\n",
    "\n",
    "# Enter the desired address or location\n",
    "search_input.send_keys('Rideau Street')\n",
    "\n",
    "# Press Enter to perform the search\n",
    "search_input.send_keys(Keys.ENTER)\n",
    "\n",
    "select_location_button = WebDriverWait(driver, 10).until(EC.element_to_be_clickable((By.CSS_SELECTOR, 'button.location-set-store__button')))\n",
    "select_location_button.click()\n",
    "\n",
    "# Wait for the button to be clickable\n",
    "wait = WebDriverWait(driver, 10)\n",
    "continue_shopping_button = wait.until(EC.element_to_be_clickable((By.CSS_SELECTOR, 'a.fulfillment-location-confirmation__actions__button')))\n",
    "continue_shopping_button.click()\n",
    "\n"
   ]
  },
  {
   "cell_type": "code",
   "execution_count": 15,
   "id": "92305f91",
   "metadata": {},
   "outputs": [],
   "source": [
    "\n",
    "url = 'https://www.loblaws.ca/food/fruits-vegetables/c/28000?navid=flyout-L2-fruits-vegetables'\n",
    "driver.get(url)\n",
    "\n",
    "grocery_list = []\n",
    "\n",
    "while True:\n",
    "    # Wait for the groceries to load\n",
    "    wait = WebDriverWait(driver, 20)\n",
    "    groceries = wait.until(EC.presence_of_all_elements_located((By.CLASS_NAME, 'product-tracking')))\n",
    "    \n",
    "    for grocery in groceries:\n",
    "        try:\n",
    "            brand = grocery.find_element(By.CLASS_NAME, 'product-name__item--brand').text\n",
    "        except:\n",
    "            brand = \"Unknown\"\n",
    "\n",
    "        try:\n",
    "            product = grocery.find_element(By.CLASS_NAME, 'product-name__item--name').text\n",
    "        except:\n",
    "            product = \"Unknown\"\n",
    "\n",
    "        try:\n",
    "            price_text = grocery.find_element(By.CLASS_NAME, 'selling-price-list__item__price--now-price__value').text\n",
    "            price = float(re.search(r'[\\d.]+', price_text).group())\n",
    "        except:\n",
    "            price = 0.0\n",
    "\n",
    "        grocery_dict = {'product brand': brand, \"product name\": product, \"price\": price, \"store name\": \"RIDEAU STREET\"}\n",
    "        grocery_list.append(grocery_dict)\n",
    "    \n",
    "    try:\n",
    "        # Scroll to the end of the page\n",
    "        driver.execute_script(\"window.scrollTo(0, document.body.scrollHeight);\")\n",
    "        time.sleep(2)  # Wait for the page to load\n",
    "        \n",
    "        # Find the \"Load More\" button\n",
    "        load_more_button = driver.find_element(By.CSS_SELECTOR, '.primary-button.primary-button--load-more-button')\n",
    "        if load_more_button.is_displayed():\n",
    "            load_more_button.click()\n",
    "        else:\n",
    "            break\n",
    "    except NoSuchElementException:\n",
    "        break\n",
    "    except Exception as e:\n",
    "        print(str(e))\n",
    "        break\n"
   ]
  },
  {
   "cell_type": "code",
   "execution_count": 16,
   "id": "b6139273",
   "metadata": {},
   "outputs": [],
   "source": [
    "\n",
    "\n",
    "driver.quit()\n"
   ]
  },
  {
   "cell_type": "code",
   "execution_count": 17,
   "id": "5bfd9f1d",
   "metadata": {},
   "outputs": [
    {
     "name": "stdout",
     "output_type": "stream",
     "text": [
      "           product brand                     product name  price  \\\n",
      "0                Unknown                   Bananas, Bunch   1.75   \n",
      "1                Unknown                 English Cucumber   1.29   \n",
      "2                Unknown          Red Seedless Watermelon   7.99   \n",
      "3                Unknown                      Green Onion   1.49   \n",
      "4                Unknown                     Red Cherries   7.83   \n",
      "...                  ...                              ...    ...   \n",
      "4994            Marzetti      Veggie Dip, Southwest Ranch   5.99   \n",
      "4995     Farmer's Market                       Red Onions   5.49   \n",
      "4996  President's Choice  Salad Kit Chopped Sesame Wonton   6.99   \n",
      "4997             Unknown            LoBok (Daikon Radish)   3.09   \n",
      "4998             Unknown                     Red Potatoes   1.43   \n",
      "\n",
      "         store name  \n",
      "0     RIDEAU STREET  \n",
      "1     RIDEAU STREET  \n",
      "2     RIDEAU STREET  \n",
      "3     RIDEAU STREET  \n",
      "4     RIDEAU STREET  \n",
      "...             ...  \n",
      "4994  RIDEAU STREET  \n",
      "4995  RIDEAU STREET  \n",
      "4996  RIDEAU STREET  \n",
      "4997  RIDEAU STREET  \n",
      "4998  RIDEAU STREET  \n",
      "\n",
      "[4999 rows x 4 columns]\n"
     ]
    }
   ],
   "source": [
    "\n",
    "\n",
    "import pandas as pd\n",
    "\n",
    "# Convert the grocery_list to a pandas DataFrame\n",
    "df = pd.DataFrame(grocery_list)\n",
    "\n",
    "# Print the DataFrame\n",
    "print(df)\n",
    "\n"
   ]
  },
  {
   "cell_type": "code",
   "execution_count": 18,
   "id": "d2a3a20b",
   "metadata": {},
   "outputs": [],
   "source": [
    "df.to_csv('ottawa_rideau_street.csv')"
   ]
  },
  {
   "cell_type": "code",
   "execution_count": null,
   "id": "aa2c4455",
   "metadata": {},
   "outputs": [],
   "source": []
  }
 ],
 "metadata": {
  "kernelspec": {
   "display_name": "Python 3 (ipykernel)",
   "language": "python",
   "name": "python3"
  },
  "language_info": {
   "codemirror_mode": {
    "name": "ipython",
    "version": 3
   },
   "file_extension": ".py",
   "mimetype": "text/x-python",
   "name": "python",
   "nbconvert_exporter": "python",
   "pygments_lexer": "ipython3",
   "version": "3.9.13"
  }
 },
 "nbformat": 4,
 "nbformat_minor": 5
}
