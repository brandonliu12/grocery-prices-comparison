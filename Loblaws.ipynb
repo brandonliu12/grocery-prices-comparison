{
 "cells": [
  {
   "cell_type": "code",
   "execution_count": 10,
   "id": "14c0121e",
   "metadata": {},
   "outputs": [
    {
     "name": "stderr",
     "output_type": "stream",
     "text": [
      "C:\\Users\\Pradivan\\AppData\\Local\\Temp\\ipykernel_24580\\172884128.py:10: DeprecationWarning: executable_path has been deprecated, please pass in a Service object\n",
      "  driver = webdriver.Chrome(executable_path=executable_path)\n"
     ]
    }
   ],
   "source": [
    "from selenium import webdriver\n",
    "from selenium.webdriver.support.ui import WebDriverWait\n",
    "from selenium.webdriver.support import expected_conditions as EC\n",
    "from selenium.webdriver.common.by import By\n",
    "from bs4 import BeautifulSoup\n",
    "import re\n",
    "\n",
    "# Your path to the webdriver might be different    \n",
    "executable_path = r\"C:\\Program Files\\Common Files\\chromedriver_win32\\chromedriver.exe\"\n",
    "driver = webdriver.Chrome(executable_path=executable_path)\n",
    "\n",
    "url = 'https://www.loblaws.ca/food/fruits-vegetables/c/28000?navid=flyout-L2-fruits-vegetables'\n",
    "driver.get(url)\n",
    "\n",
    "# Wait for the groceries to load\n",
    "wait = WebDriverWait(driver, 20)\n",
    "groceries = wait.until(EC.presence_of_all_elements_located((By.CLASS_NAME, 'product-tracking')))\n",
    "\n",
    "grocery_list = []\n",
    "\n",
    "# Parse the whole page source with BeautifulSoup\n",
    "soup_obj = BeautifulSoup(driver.page_source, 'html.parser')"
   ]
  },
  {
   "cell_type": "code",
   "execution_count": 11,
   "id": "1907fac6",
   "metadata": {},
   "outputs": [
    {
     "name": "stdout",
     "output_type": "stream",
     "text": [
      "Message: \n",
      "Stacktrace:\n",
      "Backtrace:\n",
      "\tGetHandleVerifier [0x00578893+48451]\n",
      "\t(No symbol) [0x0050B8A1]\n",
      "\t(No symbol) [0x00415058]\n",
      "\t(No symbol) [0x00440467]\n",
      "\t(No symbol) [0x0044069B]\n",
      "\t(No symbol) [0x0046DD92]\n",
      "\t(No symbol) [0x0045A304]\n",
      "\t(No symbol) [0x0046C482]\n",
      "\t(No symbol) [0x0045A0B6]\n",
      "\t(No symbol) [0x00437E08]\n",
      "\t(No symbol) [0x00438F2D]\n",
      "\tGetHandleVerifier [0x007D8E3A+2540266]\n",
      "\tGetHandleVerifier [0x00818959+2801161]\n",
      "\tGetHandleVerifier [0x0081295C+2776588]\n",
      "\tGetHandleVerifier [0x00602280+612144]\n",
      "\t(No symbol) [0x00514F6C]\n",
      "\t(No symbol) [0x005111D8]\n",
      "\t(No symbol) [0x005112BB]\n",
      "\t(No symbol) [0x00504857]\n",
      "\tBaseThreadInitThunk [0x76617D59+25]\n",
      "\tRtlInitializeExceptionChain [0x77AEB74B+107]\n",
      "\tRtlClearBits [0x77AEB6CF+191]\n",
      "\n"
     ]
    }
   ],
   "source": [
    "import time\n",
    "# Scroll to \"Load More\" button and click until it no longer exists\n",
    "while True:\n",
    "    try:\n",
    "        time.sleep(2)  # wait for the page to load\n",
    "        load_more_button = wait.until(EC.element_to_be_clickable((By.CSS_SELECTOR, '.primary-button.primary-button--load-more-button')))\n",
    "        driver.execute_script(\"arguments[0].scrollIntoView();\", load_more_button)\n",
    "        load_more_button.click()\n",
    "        time.sleep(2)  \n",
    "    except Exception as e:\n",
    "        print(str(e))\n",
    "        break"
   ]
  },
  {
   "cell_type": "code",
   "execution_count": 12,
   "id": "a77df68c",
   "metadata": {},
   "outputs": [
    {
     "ename": "TypeError",
     "evalue": "find_all() missing 1 required positional argument: 'self'",
     "output_type": "error",
     "traceback": [
      "\u001b[1;31m---------------------------------------------------------------------------\u001b[0m",
      "\u001b[1;31mTypeError\u001b[0m                                 Traceback (most recent call last)",
      "\u001b[1;32m~\\AppData\\Local\\Temp\\ipykernel_24580\\1452799672.py\u001b[0m in \u001b[0;36m<module>\u001b[1;34m\u001b[0m\n\u001b[0;32m      1\u001b[0m \u001b[1;31m# Find the groceries with BeautifulSoup\u001b[0m\u001b[1;33m\u001b[0m\u001b[1;33m\u001b[0m\u001b[0m\n\u001b[1;32m----> 2\u001b[1;33m \u001b[0mgroceries\u001b[0m \u001b[1;33m=\u001b[0m \u001b[0msoup\u001b[0m\u001b[1;33m.\u001b[0m\u001b[0mfind_all\u001b[0m\u001b[1;33m(\u001b[0m\u001b[0mclass_\u001b[0m\u001b[1;33m=\u001b[0m\u001b[1;34m'product-tracking'\u001b[0m\u001b[1;33m)\u001b[0m\u001b[1;33m\u001b[0m\u001b[1;33m\u001b[0m\u001b[0m\n\u001b[0m\u001b[0;32m      3\u001b[0m \u001b[1;31m# Wait for the groceries to load\u001b[0m\u001b[1;33m\u001b[0m\u001b[1;33m\u001b[0m\u001b[0m\n\u001b[0;32m      4\u001b[0m \u001b[0mwait\u001b[0m \u001b[1;33m=\u001b[0m \u001b[0mWebDriverWait\u001b[0m\u001b[1;33m(\u001b[0m\u001b[0mdriver\u001b[0m\u001b[1;33m,\u001b[0m \u001b[1;36m20\u001b[0m\u001b[1;33m)\u001b[0m\u001b[1;33m\u001b[0m\u001b[1;33m\u001b[0m\u001b[0m\n\u001b[0;32m      5\u001b[0m \u001b[0mgroceries\u001b[0m \u001b[1;33m=\u001b[0m \u001b[0mwait\u001b[0m\u001b[1;33m.\u001b[0m\u001b[0muntil\u001b[0m\u001b[1;33m(\u001b[0m\u001b[0mEC\u001b[0m\u001b[1;33m.\u001b[0m\u001b[0mpresence_of_all_elements_located\u001b[0m\u001b[1;33m(\u001b[0m\u001b[1;33m(\u001b[0m\u001b[0mBy\u001b[0m\u001b[1;33m.\u001b[0m\u001b[0mCLASS_NAME\u001b[0m\u001b[1;33m,\u001b[0m \u001b[1;34m'product-tracking'\u001b[0m\u001b[1;33m)\u001b[0m\u001b[1;33m)\u001b[0m\u001b[1;33m)\u001b[0m\u001b[1;33m\u001b[0m\u001b[1;33m\u001b[0m\u001b[0m\n",
      "\u001b[1;31mTypeError\u001b[0m: find_all() missing 1 required positional argument: 'self'"
     ]
    }
   ],
   "source": [
    "# Find the groceries with BeautifulSoup\n",
    "groceries = soup.find_all(class_='product-tracking')\n",
    "# Wait for the groceries to load\n",
    "wait = WebDriverWait(driver, 20)\n",
    "groceries = wait.until(EC.presence_of_all_elements_located((By.CLASS_NAME, 'product-tracking')))\n",
    "\n",
    "for grocery in groceries:\n",
    "    # The try/except blocks will prevent the script from crashing if it can't find an element\n",
    "    try:\n",
    "        brand = grocery.find(class_='product-name__item product-name__item--brand').text\n",
    "    except:\n",
    "        brand = \"Unknown\"\n",
    "    \n",
    "    try:\n",
    "        product = grocery.find(class_='product-name__item product-name__item--name').text\n",
    "    except:\n",
    "        product = \"Unknown\"\n",
    "    \n",
    "    try:\n",
    "        price_text = grocery.find(class_='price__value selling-price-list__item__price selling-price-list__item__price--now-price__value').text\n",
    "        price = float(re.search(r'[\\d.]+', price_text).group())\n",
    "    except:\n",
    "        price = 0.0\n",
    "\n",
    "    grocery_dict = {'product brand': brand, \"product name\": product, \"price\": price}\n",
    "    grocery_list.append(grocery_dict)\n",
    "\n",
    "# Now grocery_list should contain your scraped data\n",
    "print(grocery_list)"
   ]
  },
  {
   "cell_type": "code",
   "execution_count": 9,
   "id": "d9e011c8",
   "metadata": {},
   "outputs": [],
   "source": [
    "# Close Driver\n",
    "driver.quit()"
   ]
  },
  {
   "cell_type": "markdown",
   "id": "70f55b25",
   "metadata": {},
   "source": [
    "# Convert to Pandas Dataframe"
   ]
  },
  {
   "cell_type": "code",
   "execution_count": 61,
   "id": "f34ed10e",
   "metadata": {},
   "outputs": [],
   "source": [
    "import pandas as pd"
   ]
  },
  {
   "cell_type": "code",
   "execution_count": 62,
   "id": "f95804e7",
   "metadata": {},
   "outputs": [
    {
     "data": {
      "text/html": [
       "<div>\n",
       "<style scoped>\n",
       "    .dataframe tbody tr th:only-of-type {\n",
       "        vertical-align: middle;\n",
       "    }\n",
       "\n",
       "    .dataframe tbody tr th {\n",
       "        vertical-align: top;\n",
       "    }\n",
       "\n",
       "    .dataframe thead th {\n",
       "        text-align: right;\n",
       "    }\n",
       "</style>\n",
       "<table border=\"1\" class=\"dataframe\">\n",
       "  <thead>\n",
       "    <tr style=\"text-align: right;\">\n",
       "      <th></th>\n",
       "      <th>product brand</th>\n",
       "      <th>product name</th>\n",
       "      <th>price</th>\n",
       "    </tr>\n",
       "  </thead>\n",
       "  <tbody>\n",
       "    <tr>\n",
       "      <th>0</th>\n",
       "      <td>Unknown</td>\n",
       "      <td>Bananas, Bunch</td>\n",
       "      <td>1.75</td>\n",
       "    </tr>\n",
       "    <tr>\n",
       "      <th>1</th>\n",
       "      <td>Unknown</td>\n",
       "      <td>Strawberries 1LB</td>\n",
       "      <td>4.99</td>\n",
       "    </tr>\n",
       "    <tr>\n",
       "      <th>2</th>\n",
       "      <td>Unknown</td>\n",
       "      <td>English Cucumber</td>\n",
       "      <td>1.29</td>\n",
       "    </tr>\n",
       "    <tr>\n",
       "      <th>3</th>\n",
       "      <td>Unknown</td>\n",
       "      <td>Red Seedless Watermelon</td>\n",
       "      <td>7.99</td>\n",
       "    </tr>\n",
       "    <tr>\n",
       "      <th>4</th>\n",
       "      <td>Unknown</td>\n",
       "      <td>Green Onion</td>\n",
       "      <td>1.49</td>\n",
       "    </tr>\n",
       "    <tr>\n",
       "      <th>...</th>\n",
       "      <td>...</td>\n",
       "      <td>...</td>\n",
       "      <td>...</td>\n",
       "    </tr>\n",
       "    <tr>\n",
       "      <th>95</th>\n",
       "      <td>Unknown</td>\n",
       "      <td>Morel Mushrooms, Dried</td>\n",
       "      <td>12.99</td>\n",
       "    </tr>\n",
       "    <tr>\n",
       "      <th>96</th>\n",
       "      <td>Unknown</td>\n",
       "      <td>Bananas, Bunch</td>\n",
       "      <td>1.75</td>\n",
       "    </tr>\n",
       "    <tr>\n",
       "      <th>97</th>\n",
       "      <td>Unknown</td>\n",
       "      <td>Strawberries 1LB</td>\n",
       "      <td>4.99</td>\n",
       "    </tr>\n",
       "    <tr>\n",
       "      <th>98</th>\n",
       "      <td>Unknown</td>\n",
       "      <td>English Cucumber</td>\n",
       "      <td>1.29</td>\n",
       "    </tr>\n",
       "    <tr>\n",
       "      <th>99</th>\n",
       "      <td>Unknown</td>\n",
       "      <td>Red Seedless Watermelon</td>\n",
       "      <td>7.99</td>\n",
       "    </tr>\n",
       "  </tbody>\n",
       "</table>\n",
       "<p>100 rows × 3 columns</p>\n",
       "</div>"
      ],
      "text/plain": [
       "   product brand             product name  price\n",
       "0        Unknown           Bananas, Bunch   1.75\n",
       "1        Unknown         Strawberries 1LB   4.99\n",
       "2        Unknown         English Cucumber   1.29\n",
       "3        Unknown  Red Seedless Watermelon   7.99\n",
       "4        Unknown              Green Onion   1.49\n",
       "..           ...                      ...    ...\n",
       "95       Unknown   Morel Mushrooms, Dried  12.99\n",
       "96       Unknown           Bananas, Bunch   1.75\n",
       "97       Unknown         Strawberries 1LB   4.99\n",
       "98       Unknown         English Cucumber   1.29\n",
       "99       Unknown  Red Seedless Watermelon   7.99\n",
       "\n",
       "[100 rows x 3 columns]"
      ]
     },
     "execution_count": 62,
     "metadata": {},
     "output_type": "execute_result"
    }
   ],
   "source": [
    "loblaws_df = pd.DataFrame(grocery_list)\n",
    "loblaws_df.head(100)"
   ]
  },
  {
   "cell_type": "code",
   "execution_count": 63,
   "id": "a4cd96f1",
   "metadata": {},
   "outputs": [
    {
     "data": {
      "text/html": [
       "<div>\n",
       "<style scoped>\n",
       "    .dataframe tbody tr th:only-of-type {\n",
       "        vertical-align: middle;\n",
       "    }\n",
       "\n",
       "    .dataframe tbody tr th {\n",
       "        vertical-align: top;\n",
       "    }\n",
       "\n",
       "    .dataframe thead th {\n",
       "        text-align: right;\n",
       "    }\n",
       "</style>\n",
       "<table border=\"1\" class=\"dataframe\">\n",
       "  <thead>\n",
       "    <tr style=\"text-align: right;\">\n",
       "      <th></th>\n",
       "      <th>product brand</th>\n",
       "      <th>product name</th>\n",
       "      <th>price</th>\n",
       "      <th>store</th>\n",
       "    </tr>\n",
       "  </thead>\n",
       "  <tbody>\n",
       "    <tr>\n",
       "      <th>0</th>\n",
       "      <td>Unknown</td>\n",
       "      <td>Bananas, Bunch</td>\n",
       "      <td>1.75</td>\n",
       "      <td>Toronto, Carlton Store</td>\n",
       "    </tr>\n",
       "    <tr>\n",
       "      <th>1</th>\n",
       "      <td>Unknown</td>\n",
       "      <td>Strawberries 1LB</td>\n",
       "      <td>4.99</td>\n",
       "      <td>Toronto, Carlton Store</td>\n",
       "    </tr>\n",
       "    <tr>\n",
       "      <th>2</th>\n",
       "      <td>Unknown</td>\n",
       "      <td>English Cucumber</td>\n",
       "      <td>1.29</td>\n",
       "      <td>Toronto, Carlton Store</td>\n",
       "    </tr>\n",
       "    <tr>\n",
       "      <th>3</th>\n",
       "      <td>Unknown</td>\n",
       "      <td>Red Seedless Watermelon</td>\n",
       "      <td>7.99</td>\n",
       "      <td>Toronto, Carlton Store</td>\n",
       "    </tr>\n",
       "    <tr>\n",
       "      <th>4</th>\n",
       "      <td>Unknown</td>\n",
       "      <td>Green Onion</td>\n",
       "      <td>1.49</td>\n",
       "      <td>Toronto, Carlton Store</td>\n",
       "    </tr>\n",
       "  </tbody>\n",
       "</table>\n",
       "</div>"
      ],
      "text/plain": [
       "  product brand             product name  price                   store\n",
       "0       Unknown           Bananas, Bunch   1.75  Toronto, Carlton Store\n",
       "1       Unknown         Strawberries 1LB   4.99  Toronto, Carlton Store\n",
       "2       Unknown         English Cucumber   1.29  Toronto, Carlton Store\n",
       "3       Unknown  Red Seedless Watermelon   7.99  Toronto, Carlton Store\n",
       "4       Unknown              Green Onion   1.49  Toronto, Carlton Store"
      ]
     },
     "execution_count": 63,
     "metadata": {},
     "output_type": "execute_result"
    }
   ],
   "source": [
    "loblaws_df['store'] = 'Toronto, Carlton Store'\n",
    "loblaws_df.head()"
   ]
  },
  {
   "cell_type": "code",
   "execution_count": 64,
   "id": "ec6deb4a",
   "metadata": {},
   "outputs": [
    {
     "name": "stdout",
     "output_type": "stream",
     "text": [
      "1293\n"
     ]
    }
   ],
   "source": [
    "print(len(loblaws_df))"
   ]
  },
  {
   "cell_type": "code",
   "execution_count": 13,
   "id": "25761f8a",
   "metadata": {},
   "outputs": [
    {
     "ename": "AttributeError",
     "evalue": "'str' object has no attribute 'find_all'",
     "output_type": "error",
     "traceback": [
      "\u001b[1;31m---------------------------------------------------------------------------\u001b[0m",
      "\u001b[1;31mAttributeError\u001b[0m                            Traceback (most recent call last)",
      "\u001b[1;32m~\\AppData\\Local\\Temp\\ipykernel_24580\\1531471994.py\u001b[0m in \u001b[0;36m<module>\u001b[1;34m\u001b[0m\n\u001b[1;32m----> 1\u001b[1;33m \u001b[0mlocation_element\u001b[0m \u001b[1;33m=\u001b[0m \u001b[0msoup\u001b[0m\u001b[1;33m.\u001b[0m\u001b[0mfind\u001b[0m\u001b[1;33m(\u001b[0m\u001b[1;34m\"span\"\u001b[0m\u001b[1;33m,\u001b[0m \u001b[0mtext\u001b[0m\u001b[1;33m=\u001b[0m\u001b[1;34m\"Glen Erin Drive\"\u001b[0m\u001b[1;33m)\u001b[0m\u001b[1;33m\u001b[0m\u001b[1;33m\u001b[0m\u001b[0m\n\u001b[0m\u001b[0;32m      2\u001b[0m \u001b[0mlocation_name\u001b[0m \u001b[1;33m=\u001b[0m \u001b[0mlocation_element\u001b[0m\u001b[1;33m.\u001b[0m\u001b[0mtext\u001b[0m\u001b[1;33m\u001b[0m\u001b[1;33m\u001b[0m\u001b[0m\n\u001b[0;32m      3\u001b[0m \u001b[1;33m\u001b[0m\u001b[0m\n\u001b[0;32m      4\u001b[0m \u001b[0mprint\u001b[0m\u001b[1;33m(\u001b[0m\u001b[0mlocation_name\u001b[0m\u001b[1;33m)\u001b[0m\u001b[1;33m\u001b[0m\u001b[1;33m\u001b[0m\u001b[0m\n",
      "\u001b[1;32m~\\anaconda3\\lib\\site-packages\\bs4\\element.py\u001b[0m in \u001b[0;36mfind\u001b[1;34m(self, name, attrs, recursive, string, **kwargs)\u001b[0m\n\u001b[0;32m   1863\u001b[0m         \"\"\"\n\u001b[0;32m   1864\u001b[0m         \u001b[0mr\u001b[0m \u001b[1;33m=\u001b[0m \u001b[1;32mNone\u001b[0m\u001b[1;33m\u001b[0m\u001b[1;33m\u001b[0m\u001b[0m\n\u001b[1;32m-> 1865\u001b[1;33m         \u001b[0ml\u001b[0m \u001b[1;33m=\u001b[0m \u001b[0mself\u001b[0m\u001b[1;33m.\u001b[0m\u001b[0mfind_all\u001b[0m\u001b[1;33m(\u001b[0m\u001b[0mname\u001b[0m\u001b[1;33m,\u001b[0m \u001b[0mattrs\u001b[0m\u001b[1;33m,\u001b[0m \u001b[0mrecursive\u001b[0m\u001b[1;33m,\u001b[0m \u001b[0mstring\u001b[0m\u001b[1;33m,\u001b[0m \u001b[1;36m1\u001b[0m\u001b[1;33m,\u001b[0m \u001b[1;33m**\u001b[0m\u001b[0mkwargs\u001b[0m\u001b[1;33m)\u001b[0m\u001b[1;33m\u001b[0m\u001b[1;33m\u001b[0m\u001b[0m\n\u001b[0m\u001b[0;32m   1866\u001b[0m         \u001b[1;32mif\u001b[0m \u001b[0ml\u001b[0m\u001b[1;33m:\u001b[0m\u001b[1;33m\u001b[0m\u001b[1;33m\u001b[0m\u001b[0m\n\u001b[0;32m   1867\u001b[0m             \u001b[0mr\u001b[0m \u001b[1;33m=\u001b[0m \u001b[0ml\u001b[0m\u001b[1;33m[\u001b[0m\u001b[1;36m0\u001b[0m\u001b[1;33m]\u001b[0m\u001b[1;33m\u001b[0m\u001b[1;33m\u001b[0m\u001b[0m\n",
      "\u001b[1;31mAttributeError\u001b[0m: 'str' object has no attribute 'find_all'"
     ]
    }
   ],
   "source": [
    "location_element = soup.find(\"span\", text=\"Glen Erin Drive\")\n",
    "location_name = location_element.text\n",
    "\n",
    "print(location_name)"
   ]
  }
 ],
 "metadata": {
  "kernelspec": {
   "display_name": "Python 3 (ipykernel)",
   "language": "python",
   "name": "python3"
  },
  "language_info": {
   "codemirror_mode": {
    "name": "ipython",
    "version": 3
   },
   "file_extension": ".py",
   "mimetype": "text/x-python",
   "name": "python",
   "nbconvert_exporter": "python",
   "pygments_lexer": "ipython3",
   "version": "3.9.13"
  }
 },
 "nbformat": 4,
 "nbformat_minor": 5
}
