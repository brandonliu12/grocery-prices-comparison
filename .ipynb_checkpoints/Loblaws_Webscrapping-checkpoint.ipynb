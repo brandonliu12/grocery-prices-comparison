{
 "cells": [
  {
   "cell_type": "code",
   "execution_count": 138,
   "id": "14c0121e",
   "metadata": {},
   "outputs": [],
   "source": [
    "from selenium import webdriver\n",
    "from selenium.webdriver.support.ui import WebDriverWait\n",
    "from selenium.webdriver.support import expected_conditions as EC\n",
    "from bs4 import BeautifulSoup\n",
    "import re\n",
    "import time\n"
   ]
  },
  {
   "cell_type": "code",
   "execution_count": 139,
   "id": "f13417f5",
   "metadata": {},
   "outputs": [
    {
     "name": "stderr",
     "output_type": "stream",
     "text": [
      "C:\\Users\\liu12\\AppData\\Local\\Temp\\ipykernel_8648\\337350798.py:3: DeprecationWarning: executable_path has been deprecated, please pass in a Service object\n",
      "  driver = webdriver.Chrome(executable_path=executable_path)\n"
     ]
    }
   ],
   "source": [
    "# Your path to the webdriver might be different\n",
    "executable_path = r'C:\\Users\\liu12\\Downloads\\chromedriver_win32\\chromedriver.exe'\n",
    "driver = webdriver.Chrome(executable_path=executable_path)\n",
    "\n",
    "url = 'https://www.loblaws.ca/food/fruits-vegetables/c/28000?navid=flyout-L2-fruits-vegetables'\n",
    "driver.get(url)\n"
   ]
  },
  {
   "cell_type": "code",
   "execution_count": 140,
   "id": "952e27de",
   "metadata": {},
   "outputs": [
    {
     "name": "stdout",
     "output_type": "stream",
     "text": [
      "Message: \n",
      "Stacktrace:\n",
      "Backtrace:\n",
      "\tGetHandleVerifier [0x0094A813+48355]\n",
      "\t(No symbol) [0x008DC4B1]\n",
      "\t(No symbol) [0x007E5358]\n",
      "\t(No symbol) [0x008109A5]\n",
      "\t(No symbol) [0x00810B3B]\n",
      "\t(No symbol) [0x0083E232]\n",
      "\t(No symbol) [0x0082A784]\n",
      "\t(No symbol) [0x0083C922]\n",
      "\t(No symbol) [0x0082A536]\n",
      "\t(No symbol) [0x008082DC]\n",
      "\t(No symbol) [0x008093DD]\n",
      "\tGetHandleVerifier [0x00BAAABD+2539405]\n",
      "\tGetHandleVerifier [0x00BEA78F+2800735]\n",
      "\tGetHandleVerifier [0x00BE456C+2775612]\n",
      "\tGetHandleVerifier [0x009D51E0+616112]\n",
      "\t(No symbol) [0x008E5F8C]\n",
      "\t(No symbol) [0x008E2328]\n",
      "\t(No symbol) [0x008E240B]\n",
      "\t(No symbol) [0x008D4FF7]\n",
      "\tBaseThreadInitThunk [0x76777D59+25]\n",
      "\tRtlInitializeExceptionChain [0x7791B74B+107]\n",
      "\tRtlClearBits [0x7791B6CF+191]\n",
      "\n"
     ]
    }
   ],
   "source": [
    "# Scroll to \"Load More\" button and click until it no longer exists\n",
    "while True:\n",
    "    try:\n",
    "        load_more_button = WebDriverWait(driver, 20).until(EC.element_to_be_clickable((By.CSS_SELECTOR, '.primary-button.primary-button--load-more-button')))\n",
    "        driver.execute_script(\"arguments[0].scrollIntoView();\", load_more_button)\n",
    "        load_more_button.click()\n",
    "        WebDriverWait(driver, 20).until(EC.staleness_of(load_more_button)) # Wait for new data to load\n",
    "    except Exception as e:\n",
    "        print(str(e))\n",
    "        break"
   ]
  },
  {
   "cell_type": "code",
   "execution_count": 141,
   "id": "a9603628",
   "metadata": {},
   "outputs": [],
   "source": [
    "# Now that we're done loading more results, create the soup object\n",
    "soup = BeautifulSoup(driver.page_source, 'html.parser')\n",
    "\n",
    "# Find the groceries with BeautifulSoup\n",
    "groceries = soup.find_all(class_='product-tracking')"
   ]
  },
  {
   "cell_type": "code",
   "execution_count": 142,
   "id": "a77df68c",
   "metadata": {},
   "outputs": [
    {
     "name": "stdout",
     "output_type": "stream",
     "text": [
      "[{'product brand': 'Unknown', 'product name': 'Bananas, Bunch', 'price': 1.75}, {'product brand': 'Unknown', 'product name': 'Strawberries 1LB', 'price': 4.99}, {'product brand': 'Unknown', 'product name': 'English Cucumber', 'price': 0.99}, {'product brand': 'Unknown', 'product name': 'Red Seedless Watermelon', 'price': 7.99}, {'product brand': 'Unknown', 'product name': 'Green Onion', 'price': 1.49}, {'product brand': 'Unknown', 'product name': 'Red Cherries', 'price': 13.71}, {'product brand': 'Unknown', 'product name': 'Tomato On The Vine Red (1 Bunch)', 'price': 1.55}, {'product brand': 'Unknown', 'product name': 'Asparagus', 'price': 5.19}, {'product brand': 'Unknown', 'product name': 'Tomato Beefsteak  Red', 'price': 1.18}, {'product brand': 'Unknown', 'product name': 'Lettuce Iceberg', 'price': 3.99}, {'product brand': 'Unknown', 'product name': 'Avocados Bag', 'price': 4.99}, {'product brand': 'Unknown', 'product name': 'Lemon', 'price': 0.99}, {'product brand': \"Farmer's Market\", 'product name': 'English Cucumber 3Ct    ', 'price': 2.89}, {'product brand': \"Farmer's Market\", 'product name': 'Yellow Onions', 'price': 2.99}, {'product brand': 'Unknown', 'product name': 'Strawberries 2LB', 'price': 8.99}, {'product brand': 'Unknown', 'product name': 'Celery Stalks', 'price': 4.99}, {'product brand': 'Unknown', 'product name': 'Red Peppers    ', 'price': 2.11}, {'product brand': 'Unknown', 'product name': 'Red Onion', 'price': 2.19}, {'product brand': 'Unknown', 'product name': 'Zucchini', 'price': 1.66}, {'product brand': 'Unknown', 'product name': 'Green Seedless Grapes', 'price': 13.47}, {'product brand': 'Unknown', 'product name': 'Limes', 'price': 0.99}, {'product brand': 'Unknown', 'product name': 'Cauliflower', 'price': 4.99}, {'product brand': 'PC Organics', 'product name': 'Organic Bananas, Bunch', 'price': 2.88}, {'product brand': 'Unknown', 'product name': 'Raspberries 1/2 pint', 'price': 4.99}, {'product brand': 'Unknown', 'product name': 'Bartlett Pears', 'price': 1.15}, {'product brand': 'Unknown', 'product name': 'Cilantro', 'price': 2.69}, {'product brand': 'Unknown', 'product name': 'Blueberries 1 pint', 'price': 5.99}, {'product brand': \"Farmer's Market\", 'product name': 'Grape Tomatoes', 'price': 3.99}, {'product brand': 'Unknown', 'product name': 'Sweet Green Peppers', 'price': 2.46}, {'product brand': 'Unknown', 'product name': 'Broccoli Crowns', 'price': 2.5}, {'product brand': 'Unknown', 'product name': 'Roma Tomatoes', 'price': 0.66}, {'product brand': \"Farmer's Market\", 'product name': 'Carrots', 'price': 3.99}, {'product brand': 'Unknown', 'product name': 'Royal Gala Apples', 'price': 1.15}, {'product brand': 'Unknown', 'product name': 'Broccoli', 'price': 3.99}, {'product brand': 'Unknown', 'product name': 'Ginger', 'price': 1.85}, {'product brand': 'Unknown', 'product name': 'Mango', 'price': 2.99}, {'product brand': \"Farmer's Market\", 'product name': 'Mini Cucumbers', 'price': 2.99}, {'product brand': \"Farmer's Market\", 'product name': 'Russet Potatoes', 'price': 3.99}, {'product brand': \"Farmer's Market\", 'product name': 'Mini Cucumbers', 'price': 6.99}, {'product brand': \"President's Choice\", 'product name': 'Ontario Greenhouse-Grown Strawberries ', 'price': 5.99}, {'product brand': 'Rooster', 'product name': 'Garlic Bulbs, 3-count', 'price': 1.29}, {'product brand': 'Unknown', 'product name': 'Cantaloupe', 'price': 5.99}, {'product brand': 'Unknown', 'product name': 'Sweet Potato', 'price': 2.49}, {'product brand': 'Unknown', 'product name': 'Shishito Peppers', 'price': 4.99}, {'product brand': 'Unknown', 'product name': 'Leeks', 'price': 5.99}, {'product brand': 'PC Organics', 'product name': 'Organic Green Beans', 'price': 6.99}, {'product brand': \"Farmer's Market\", 'product name': 'Mango Red 3Ct', 'price': 4.99}, {'product brand': 'Unknown', 'product name': 'Chicken BLT Salad Mini', 'price': 5.0}, {'product brand': \"President's Choice\", 'product name': 'Poblano Hot Peppers', 'price': 4.99}, {'product brand': \"President's Choice\", 'product name': 'Mini Sweet Peppers', 'price': 5.99}, {'product brand': 'The Little Potato Company', 'product name': 'Fresh Creamer Potatoes Smoked Salt', 'price': 4.99}, {'product brand': 'Unknown', 'product name': 'Honeydew Melon Halves', 'price': 6.0}, {'product brand': 'Unknown', 'product name': 'Parsnip', 'price': 1.92}, {'product brand': 'Unknown', 'product name': 'Morel Mushrooms, Dried', 'price': 12.99}, {'product brand': 'Unknown', 'product name': 'Radicchio Lettuce', 'price': 3.41}, {'product brand': 'Unknown', 'product name': 'Fresh Apple, Blueberry, Cranberry, Mint Juice', 'price': 7.0}, {'product brand': \"President's Choice\", 'product name': 'Honey Roasted Pistachios', 'price': 7.99}, {'product brand': 'Unknown', 'product name': 'Carrots & Snap Peas ', 'price': 6.0}, {'product brand': \"President's Choice\", 'product name': 'Baby Spinach And Tender Red Lettuce', 'price': 4.99}, {'product brand': \"President's Choice\", 'product name': 'Live Lettuce Red/Green, 2-pack', 'price': 5.99}, {'product brand': \"President's Choice\", 'product name': 'Oregano', 'price': 2.99}, {'product brand': 'Fresh Attitude', 'product name': 'Spring Mix Salad with Toppings Single Sized', 'price': 5.99}, {'product brand': \"Farmer's Market\", 'product name': 'Mandarin Oranges', 'price': 4.99}, {'product brand': 'Unknown', 'product name': 'Canary Melon', 'price': 5.0}, {'product brand': 'Greenhouse', 'product name': 'Fiery Ginger Juice', 'price': 14.99}, {'product brand': 'Unknown', 'product name': 'Vine Cherry Tomatoes', 'price': 4.99}, {'product brand': 'Aurora', 'product name': 'Sundried Tomatoes', 'price': 2.99}, {'product brand': 'Taylor Farms', 'product name': 'Chopped Salad Kit, Thai Style Chili Mango', 'price': 6.99}, {'product brand': 'Unknown', 'product name': 'Organic Thyme Potted', 'price': 3.99}, {'product brand': 'Unknown', 'product name': 'Veggie Platter, Small', 'price': 14.0}, {'product brand': 'Unknown', 'product name': 'Premium Chicken Caesar Salad', 'price': 9.0}, {'product brand': 'Unknown', 'product name': 'Small Cubed Cantaloupe', 'price': 6.0}, {'product brand': 'Greenhouse', 'product name': 'Plant-Based Collagen Booster Glow', 'price': 3.99}, {'product brand': 'Unknown', 'product name': 'Atemoya', 'price': 5.99}, {'product brand': 'Unknown', 'product name': 'Sweet Onion', 'price': 2.73}, {'product brand': 'Unknown', 'product name': 'Celery Hearts', 'price': 5.99}, {'product brand': 'Unknown', 'product name': 'Organic Dill Potted', 'price': 3.99}, {'product brand': 'PC Organics', 'product name': 'Organic Red Potatoes', 'price': 7.99}, {'product brand': 'Unknown', 'product name': 'Dandelion Greens', 'price': 4.99}, {'product brand': 'PC Organics', 'product name': 'Gala Apples', 'price': 1.94}, {'product brand': 'Unknown', 'product name': 'The Caesar Salad', 'price': 12.0}, {'product brand': 'Unknown', 'product name': 'Red Anjou Pears', 'price': 1.54}, {'product brand': 'Litehouse', 'product name': 'Dip Organic Ranch', 'price': 5.49}, {'product brand': 'Unknown', 'product name': 'Large Mediterranean Tuna Salad', 'price': 13.0}, {'product brand': \"President's Choice\", 'product name': 'Yellow Potatoes', 'price': 6.99}, {'product brand': 'Unknown', 'product name': 'Italian Eggplants', 'price': 1.58}, {'product brand': 'Unknown', 'product name': 'Endive', 'price': 5.99}, {'product brand': 'Unknown', 'product name': 'Organic Mango', 'price': 2.99}, {'product brand': 'Unknown', 'product name': 'Fresh Apple, Lemon, Ginger, Turmeric Juice', 'price': 13.0}, {'product brand': \"President's Choice\", 'product name': 'Southwest Salad Kit', 'price': 6.99}, {'product brand': 'Unknown', 'product name': 'Red Grapefruit', 'price': 2.99}, {'product brand': 'No Name', 'product name': 'Naturally Imperfect Mixed Sweet Peppers 2.5lb Bag', 'price': 7.99}, {'product brand': \"President's Choice\", 'product name': 'Dill', 'price': 2.99}, {'product brand': 'Unknown', 'product name': 'Fresh Berry Bowl, Small', 'price': 7.0}, {'product brand': 'Unknown', 'product name': 'Cubed Kiwi & Strawberries, Small', 'price': 6.0}, {'product brand': 'PC Organics', 'product name': 'Organic Lime', 'price': 6.99}, {'product brand': 'Unknown', 'product name': 'Fresh Berry Bowl, Small', 'price': 7.0}, {'product brand': \"President's Choice\", 'product name': 'Creamy Golden Potatoes', 'price': 3.99}, {'product brand': 'Unknown', 'product name': 'Cobb Salad with Cheddar Chips', 'price': 9.0}, {'product brand': 'Unknown', 'product name': 'Shrimp & Bacon Caesar Salad, Mini', 'price': 5.0}, {'product brand': 'Unknown', 'product name': 'Chicken BLT Salad Mini', 'price': 5.0}, {'product brand': \"President's Choice\", 'product name': 'Poblano Hot Peppers', 'price': 4.99}, {'product brand': 'Unknown', 'product name': 'Red Delicious Apples', 'price': 1.38}, {'product brand': 'Renees', 'product name': 'French Onion Refrigerated Dip', 'price': 5.49}, {'product brand': 'Unknown', 'product name': 'Colossal Garlic', 'price': 1.76}, {'product brand': 'The Little Potato Company', 'product name': 'Fresh Creamer Potatoes Roasted Garlic, Rosemary & Thyme', 'price': 4.99}, {'product brand': \"President's Choice\", 'product name': 'Finger Hot Hot Peppers', 'price': 4.99}, {'product brand': 'Unknown', 'product name': 'Shishito Peppers', 'price': 4.99}, {'product brand': 'Unknown', 'product name': 'Leeks', 'price': 5.99}, {'product brand': \"President's Choice\", 'product name': 'Yellow Potatoes', 'price': 6.99}, {'product brand': 'Greenhouse', 'product name': 'Raw, Organic Juice Gatsby', 'price': 7.99}, {'product brand': \"President's Choice\", 'product name': 'Pencil Hot Hot Peppers', 'price': 4.99}, {'product brand': 'Unknown', 'product name': 'Pomegranate', 'price': 3.99}, {'product brand': 'Unknown', 'product name': 'Italian Eggplants', 'price': 1.58}, {'product brand': 'PC Organics', 'product name': 'Organic Green Onions', 'price': 2.29}, {'product brand': 'Paramount', 'product name': 'No shell BBQ Pistachios', 'price': 8.99}, {'product brand': 'Unknown', 'product name': 'Hibiscus & Rose Hip Infused\\xa0Lemonade\\xa0', 'price': 6.0}, {'product brand': 'Unknown', 'product name': 'Turmeric', 'price': 4.32}, {'product brand': 'Unknown', 'product name': 'Endive', 'price': 5.99}, {'product brand': 'Unknown', 'product name': 'Organic Mango', 'price': 2.99}, {'product brand': 'Unknown', 'product name': 'Morel Mushrooms, Dried', 'price': 12.99}, {'product brand': 'No Name', 'product name': 'Naturally Imperfect Mixed Sweet Peppers 2.5lb Bag', 'price': 7.99}, {'product brand': 'Unknown', 'product name': 'Radicchio Lettuce', 'price': 3.41}, {'product brand': \"President's Choice\", 'product name': 'Honey Roasted Pistachios', 'price': 7.99}, {'product brand': \"President's Choice\", 'product name': 'Dill', 'price': 2.99}, {'product brand': \"President's Choice\", 'product name': 'Live Lettuce Red/Green, 2-pack', 'price': 5.99}, {'product brand': 'Unknown', 'product name': 'Nectarines', 'price': 2.16}, {'product brand': 'PC Organics', 'product name': 'Organics Whole Oyster Mushrooms', 'price': 3.99}, {'product brand': 'The Little Potato Company', 'product name': 'Microwave Ready Garlic Parsley Potatoes', 'price': 4.99}, {'product brand': 'Unknown', 'product name': 'Organic Dates', 'price': 6.99}, {'product brand': 'Unknown', 'product name': 'Sweet Kale Salad Family Size', 'price': 17.0}, {'product brand': 'PC Organics', 'product name': 'Organics Multicolour Carrots', 'price': 5.99}, {'product brand': \"Farmer's Market\", 'product name': 'Peaches ', 'price': 8.99}, {'product brand': 'Unknown', 'product name': 'Organic Italian Parsley', 'price': 3.99}, {'product brand': \"President's Choice\", 'product name': 'Avocado Ranch Chopped Salad Kit', 'price': 6.99}, {'product brand': 'Unknown', 'product name': 'Chick Pea/Artichoke/Sundried Tomato Salad', 'price': 7.79}, {'product brand': 'Unknown', 'product name': 'Sweet Potato and Butternut Squash Mix', 'price': 7.0}, {'product brand': 'Marzetti', 'product name': 'Marzetti Chocolate Dip 250g', 'price': 5.99}, {'product brand': 'No Name', 'product name': 'Naturally Imperfect Avocados', 'price': 9.99}, {'product brand': 'Bolthouse', 'product name': 'Daily Greens', 'price': 7.49}, {'product brand': 'Unknown', 'product name': 'Organic Dried Figs', 'price': 5.99}, {'product brand': 'Unknown', 'product name': 'Fresh Mango Pineapple Smoothie', 'price': 5.99}, {'product brand': 'Renees', 'product name': 'Dressing And Dip Caesar Light', 'price': 0.59}, {'product brand': 'Unknown', 'product name': 'Shanghai Bok Choy Jr.', 'price': 3.95}, {'product brand': 'Unknown', 'product name': 'Shanghai Bok Choy Jr.', 'price': 3.95}, {'product brand': 'Unknown', 'product name': 'Organic Cantaloupe', 'price': 6.99}, {'product brand': 'Unknown', 'product name': 'Physalis (Gooseberries)', 'price': 4.99}, {'product brand': \"President's Choice\", 'product name': 'Basil', 'price': 4.29}, {'product brand': 'Gourmet Garden', 'product name': 'Lightly Dried Cilantro', 'price': 5.99}, {'product brand': 'Unknown', 'product name': 'Ginger & Lime Infused Lemonade\\xa0', 'price': 6.0}, {'product brand': 'Marzetti', 'product name': 'Marzetti Chocolate Dip 250g', 'price': 5.99}, {'product brand': 'PC Organics', 'product name': 'Organic Mushroom Umami Mix', 'price': 4.99}, {'product brand': 'Unknown', 'product name': 'Peppers, Mini', 'price': 5.99}, {'product brand': 'Unknown', 'product name': 'Organic Grape Tomatoes', 'price': 9.99}, {'product brand': 'Unknown', 'product name': 'Navel Orange', 'price': 2.31}, {'product brand': 'Marzetti', 'product name': 'Veggie Dip, Light Ranch', 'price': 5.99}, {'product brand': 'Unknown', 'product name': 'Fresh Coconut Young', 'price': 4.99}, {'product brand': 'Unknown', 'product name': 'Gold Cored Pineapple', 'price': 6.99}, {'product brand': 'Tiffany Gates', 'product name': 'Tiffany Gate Zesty Supergrain Salad', 'price': 2.29}, {'product brand': \"Farmer's Market\", 'product name': 'Gala Apples', 'price': 7.99}, {'product brand': 'GoodLeaf', 'product name': 'Ontario Baby Spinach', 'price': 5.99}, {'product brand': 'No Name', 'product name': 'Roasted Peanuts, No Salt', 'price': 6.99}, {'product brand': 'Unknown', 'product name': 'Frisee Lettuce 2-pack', 'price': 4.99}, {'product brand': \"Farmer's Market\", 'product name': 'Grape Tomato 907G    ', 'price': 6.99}, {'product brand': 'Unknown', 'product name': 'Lavender & Elderflower Infused\\xa0Lemonade', 'price': 6.0}, {'product brand': 'Unknown', 'product name': 'Honey Pitted Dates', 'price': 4.99}, {'product brand': 'Unknown', 'product name': 'Green Leaf Lettuce', 'price': 3.99}, {'product brand': 'Unknown', 'product name': 'Fresh Green Spinach Mango Smoothie', 'price': 5.99}, {'product brand': 'Unknown', 'product name': 'Green Mangoes', 'price': 10.0}, {'product brand': 'Unknown', 'product name': 'Pink Lady Apples', 'price': 1.61}, {'product brand': 'Unknown', 'product name': 'Red Beets, Bunched', 'price': 4.99}, {'product brand': 'Unknown', 'product name': 'Baby Eggplants (1 pack)', 'price': 2.77}, {'product brand': \"President's Choice\", 'product name': 'Marjoram', 'price': 2.99}, {'product brand': 'Unknown', 'product name': 'Watercress', 'price': 2.49}, {'product brand': 'Love Beets', 'product name': 'Cooked Beets', 'price': 5.49}, {'product brand': 'Loop', 'product name': 'Cold-Pressed Juice Magic Sip', 'price': 7.99}, {'product brand': 'Unknown', 'product name': 'Russet Potato', 'price': 2.36}, {'product brand': 'Unknown', 'product name': 'Organic Black Kale', 'price': 4.99}, {'product brand': 'Unknown', 'product name': 'Garden Salad Mini', 'price': 5.0}, {'product brand': \"President's Choice\", 'product name': 'Coleslaw', 'price': 3.49}, {'product brand': 'GoodLeaf', 'product name': 'Ontario Spring Mix', 'price': 5.99}, {'product brand': 'Unknown', 'product name': 'Cooking Spinach', 'price': 3.99}, {'product brand': 'Taylor Farms', 'product name': 'Chopped Salad Kit, Dill Pickle', 'price': 6.99}, {'product brand': 'Unknown', 'product name': 'Buttercup Squash', 'price': 10.06}, {'product brand': 'Unknown', 'product name': 'White Onion', 'price': 2.19}, {'product brand': 'Unknown', 'product name': 'Jamaican Pumpkin', 'price': 8.24}, {'product brand': 'Greenhouse', 'product name': 'Organic Booster Inside Job', 'price': 3.99}, {'product brand': 'Unknown', 'product name': 'Golden Figs', 'price': 5.99}, {'product brand': 'Unknown', 'product name': 'Organic Dried Dates', 'price': 5.99}, {'product brand': 'No Name', 'product name': 'Raw, Unsalted Pumpkin Seeds', 'price': 2.29}, {'product brand': 'Unknown', 'product name': 'Red Beets', 'price': 1.04}, {'product brand': \"President's Choice\", 'product name': 'Sea Salt Pistachios', 'price': 7.99}, {'product brand': 'Bolthouse', 'product name': 'Daily Greens', 'price': 7.49}, {'product brand': 'Unknown', 'product name': 'Organic Dried Figs', 'price': 5.99}, {'product brand': 'Unknown', 'product name': 'Fresh Mango Pineapple Smoothie', 'price': 5.99}, {'product brand': 'PC Organics', 'product name': 'Organics Multicolour Carrots', 'price': 5.99}, {'product brand': \"Farmer's Market\", 'product name': 'Peaches ', 'price': 8.99}, {'product brand': 'Unknown', 'product name': 'Organic Italian Parsley', 'price': 3.99}, {'product brand': \"President's Choice\", 'product name': 'Avocado Ranch Chopped Salad Kit', 'price': 6.99}, {'product brand': 'Unknown', 'product name': 'Chick Pea/Artichoke/Sundried Tomato Salad', 'price': 7.79}, {'product brand': 'Unknown', 'product name': 'Sweet Potato and Butternut Squash Mix', 'price': 7.0}, {'product brand': 'PC Organics', 'product name': 'Organic White Stuffer Mushrooms', 'price': 5.99}, {'product brand': 'Unknown', 'product name': 'Organic Mint Potted', 'price': 3.99}, {'product brand': \"President's Choice\", 'product name': 'Yellow Mini Potatoes', 'price': 4.99}, {'product brand': 'PC Organics', 'product name': 'Arugula & Baby Spinach Salad Mix', 'price': 4.99}, {'product brand': '7D', 'product name': 'Dried Mangos', 'price': 9.99}, {'product brand': 'Unknown', 'product name': 'Cold Pressed Lemonade', 'price': 6.0}, {'product brand': 'The Little Potato Company', 'product name': 'Microwave Ready Lemon and Garden Herb Potatoes', 'price': 4.99}, {'product brand': 'Unknown', 'product name': 'Organic Curly Parsley', 'price': 3.99}, {'product brand': 'Unknown', 'product name': 'Pearl Onion', 'price': 2.99}, {'product brand': 'Unknown', 'product name': 'Greek Yogurt Parfait', 'price': 5.0}, {'product brand': \"President's Choice\", 'product name': 'Apple Cider Vin Pouch 45 Ml', 'price': 0.59}, {'product brand': 'PC Organics', 'product name': 'Organic Peppers Mini 227G', 'price': 6.99}, {'product brand': 'Unknown', 'product name': 'Premium Greek Classic', 'price': 9.0}, {'product brand': 'Unknown', 'product name': 'Cactus Pears 12X4ct ', 'price': 3.99}, {'product brand': 'Taylor Farms', 'product name': 'Chopped Salad Kit, Steakhouse', 'price': 6.99}, {'product brand': 'Unknown', 'product name': 'Papaya', 'price': 5.71}, {'product brand': 'Unknown', 'product name': 'Honeycrisp Apples', 'price': 1.58}, {'product brand': \"President's Choice\", 'product name': 'Seedless Lemons', 'price': 5.99}, {'product brand': \"President's Choice\", 'product name': 'Arugula', 'price': 4.99}, {'product brand': 'Marzetti', 'product name': 'Chocolate Dip Original', 'price': 1.5}, {'product brand': 'Unknown', 'product name': 'Sweet Baby Cauliflower', 'price': 3.99}, {'product brand': 'Sunrich', 'product name': 'Apple Slices', 'price': 4.99}, {'product brand': 'Eat Smart', 'product name': 'Sweet Kale Salad Kit', 'price': 5.99}, {'product brand': 'Unknown', 'product name': 'Organic Green Dandelion', 'price': 4.99}, {'product brand': 'PC Organics', 'product name': 'Organic Bartlett Pears', 'price': 1.76}, {'product brand': 'Unknown', 'product name': 'Pineapple Vegetable Kebab, 2 pack', 'price': 6.0}, {'product brand': 'Unknown', 'product name': 'Organic Iceberg Lettuce', 'price': 4.99}, {'product brand': 'Dole', 'product name': 'Chop Chop Kit Everything Caesar', 'price': 6.99}, {'product brand': 'Unknown', 'product name': 'Vidalia Onions 3lb Bag', 'price': 6.99}, {'product brand': \"President's Choice\", 'product name': 'Caesar Salad Chop Kit', 'price': 6.99}, {'product brand': \"President's Choice\", 'product name': 'Butternut Squash, Diced', 'price': 5.49}, {'product brand': 'Marzetti', 'product name': 'Veggie Dip, Ranch', 'price': 5.99}, {'product brand': 'Unknown', 'product name': 'Organic French Beans', 'price': 6.49}, {'product brand': 'Unknown', 'product name': 'Chanterelle Mushrooms, Dried', 'price': 5.99}, {'product brand': 'Unknown', 'product name': 'French Beans', 'price': 5.99}, {'product brand': 'Tiffany Gates', 'product name': 'Potato Salad New Orleans   ', 'price': 2.29}, {'product brand': 'Unknown', 'product name': 'Chicken Caesar Salad Family Size', 'price': 17.0}, {'product brand': 'Unknown', 'product name': 'Garlic Bulbs', 'price': 6.49}, {'product brand': 'Unknown', 'product name': 'Root Harvest Mix (cubed Parsnip, Carrots, Butternut Squash, Yams, Red Onions, Celery)', 'price': 7.0}, {'product brand': 'Unknown', 'product name': 'Watermelon Cubed Small 300G', 'price': 6.0}, {'product brand': \"President's Choice\", 'product name': 'Salted Virginia Peanuts', 'price': 3.99}, {'product brand': 'Unknown', 'product name': 'Popeye Select Spinach', 'price': 11.99}, {'product brand': 'Unknown', 'product name': 'Radish', 'price': 2.99}, {'product brand': 'Unknown', 'product name': 'Cheddar and Bacon Potato Salad', 'price': 2.29}, {'product brand': \"Farmer's Market\", 'product name': 'Spartan Apples', 'price': 7.99}, {'product brand': \"President's Choice\", 'product name': 'Vegetable Medley', 'price': 5.49}, {'product brand': \"Farmer's Market\", 'product name': 'Honeycrisp Apples', 'price': 11.99}, {'product brand': 'Unknown', 'product name': 'Banana Oatmeal Granola Parfait with Mixed Berries', 'price': 5.0}, {'product brand': 'Earthbound Farms Organic', 'product name': 'Chop Honey Citrus Salad', 'price': 7.49}, {'product brand': 'Unknown', 'product name': 'Radishes', 'price': 2.49}, {'product brand': 'PC Organics', 'product name': 'Organic Ginger', 'price': 3.99}, {'product brand': 'Unknown', 'product name': 'Greek Pasta Olympia Salad', 'price': 5.95}, {'product brand': \"President's Choice\", 'product name': 'Crumbled Cauliflower', 'price': 4.99}, {'product brand': \"President's Choice\", 'product name': 'Ready Veggie, Kale Blend', 'price': 5.99}, {'product brand': 'Unknown', 'product name': 'Escarole', 'price': 3.49}, {'product brand': 'Unknown', 'product name': 'Organic Raspberries 1/2 pint', 'price': 5.99}, {'product brand': 'Unknown', 'product name': 'Organic Thai Basil Potted', 'price': 3.99}, {'product brand': 'Unknown', 'product name': 'Organic Spaghetti Squash', 'price': 11.8}, {'product brand': 'PC Organics', 'product name': 'Organic Broccoli', 'price': 5.99}, {'product brand': \"President's Choice\", 'product name': '50-50 Blend - A Blend of Baby Spinach and Field Greens', 'price': 6.49}, {'product brand': 'Unknown', 'product name': 'Sweet Kale', 'price': 9.0}, {'product brand': 'Greenhouse', 'product name': 'Collagen Booster Glow Multipack', 'price': 14.99}, {'product brand': \"President's Choice\", 'product name': 'Spring Mix', 'price': 6.49}, {'product brand': 'Unknown', 'product name': 'Bean Runner', 'price': 4.99}, {'product brand': 'Unknown', 'product name': 'Organic Carrots Bunched', 'price': 4.99}, {'product brand': \"President's Choice\", 'product name': 'Mint', 'price': 4.29}, {'product brand': 'Unknown', 'product name': 'Organic Rainbow Swiss Chard', 'price': 4.99}, {'product brand': \"President's Choice\", 'product name': 'Cauliflower Slaw', 'price': 4.49}, {'product brand': 'Unknown', 'product name': 'Fuyu Persimmon', 'price': 2.49}, {'product brand': 'Unknown', 'product name': 'Fresh Orange Juice', 'price': 15.0}, {'product brand': \"President's Choice\", 'product name': 'Romaine Salad', 'price': 4.49}, {'product brand': 'Unknown', 'product name': 'Kiwi Fruit', 'price': 6.99}, {'product brand': 'Marzetti', 'product name': 'Spinach Veggie Dip', 'price': 1.29}, {'product brand': 'Unknown', 'product name': 'Granadilla', 'price': 2.49}, {'product brand': 'Unknown', 'product name': 'Organic Brussel Sprouts', 'price': 6.99}, {'product brand': 'Unknown', 'product name': 'Long Beans', 'price': 0.5}, {'product brand': 'Unknown', 'product name': 'Parsnips 1lb Bag', 'price': 5.99}, {'product brand': 'Unknown', 'product name': 'Chicken Caesar Salad Mini', 'price': 5.0}, {'product brand': 'Unknown', 'product name': 'Lunch Size Veg and Dip 600G', 'price': 8.0}, {'product brand': 'Greenhouse', 'product name': 'Organic Booster Farma-C+', 'price': 14.99}, {'product brand': 'Paramount', 'product name': 'Pistachios No Shells Roasted Light Salt', 'price': 8.99}, {'product brand': 'Unknown', 'product name': 'Coconut Rolled Medjool Dates', 'price': 8.99}, {'product brand': 'Unknown', 'product name': 'Horseradish', 'price': 6.94}, {'product brand': 'Unknown', 'product name': 'Large Chicken Caesar Salad', 'price': 12.0}, {'product brand': 'Unknown', 'product name': 'White Flesh Nectarine', 'price': 1.85}, {'product brand': 'Unknown', 'product name': 'Bard Valley Natural Delights Pitted Medjool Dates', 'price': 9.99}, {'product brand': 'Unknown', 'product name': 'Shanghai Bok Choy', 'price': 4.22}, {'product brand': \"President's Choice\", 'product name': 'Bay Leaf', 'price': 2.99}, {'product brand': 'Unknown', 'product name': 'Organic English Cucumber', 'price': 3.99}, {'product brand': 'Unknown', 'product name': 'Butternut Squash', 'price': 12.38}, {'product brand': 'Taylor Farms', 'product name': 'Chopped Salad Kit, Buffalo Ranch', 'price': 6.99}, {'product brand': 'Well', 'product name': 'Cold Pressed Juice C Well  ', 'price': 5.99}, {'product brand': 'Unknown', 'product name': 'Fresh Orange, Spinach, Kale, Celery Juice', 'price': 13.0}, {'product brand': 'PC Organics', 'product name': 'Organic Field Greens & Baby Spinach - Salad Mix', 'price': 7.99}, {'product brand': 'PC Organics', 'product name': 'Organic Tomato On The Vine Red (1 Bunch)', 'price': 7.92}, {'product brand': \"President's Choice\", 'product name': 'Cocktail Tomatoes', 'price': 4.99}, {'product brand': 'Taylor Farms', 'product name': 'Guacamole Crunch Chopped Salad Kit', 'price': 6.99}, {'product brand': 'Paramount', 'product name': 'Pistachios, Salt & Pepper', 'price': 6.49}, {'product brand': 'Unknown', 'product name': 'Tomato Sugar Bomb', 'price': 6.99}, {'product brand': 'Unknown', 'product name': 'Strawberry Quart', 'price': 4.99}, {'product brand': 'Unknown', 'product name': 'French Bean', 'price': 8.99}, {'product brand': 'PC Organics', 'product name': 'Celery Hearts', 'price': 6.99}, {'product brand': 'Unknown', 'product name': 'Bartlett Pears', 'price': 6.99}, {'product brand': 'Unknown', 'product name': 'Fennel', 'price': 5.49}, {'product brand': 'PC Organics', 'product name': 'Mushroom White, Sliced', 'price': 3.69}, {'product brand': 'Unknown', 'product name': 'Fuji Apples', 'price': 1.58}, {'product brand': 'Unknown', 'product name': 'Fresh Banana Strawberry Smoothie', 'price': 5.99}, {'product brand': \"Farmer's Market\", 'product name': 'Mixed Peppers (6 Pack)', 'price': 8.99}, {'product brand': 'Unknown', 'product name': 'Fresh Orange Juice', 'price': 12.0}, {'product brand': 'GoodLeaf', 'product name': 'Micro Arugula', 'price': 4.79}, {'product brand': 'The Little Potato Company', 'product name': 'Oven BBQ Ready Garlic Herb Potatoes', 'price': 4.99}, {'product brand': \"President's Choice\", 'product name': 'Salted California Pistachios', 'price': 5.99}, {'product brand': 'PC Organics', 'product name': 'Organic Button White Mushrooms', 'price': 3.99}, {'product brand': 'Unknown', 'product name': 'Organic Leeks', 'price': 5.99}, {'product brand': 'Unknown', 'product name': 'Parsley Root', 'price': 5.99}, {'product brand': 'Dole', 'product name': 'Chop Chop Kit Teriyaki Pineapple', 'price': 6.99}, {'product brand': \"President's Choice\", 'product name': 'Greek Vinaigrette Pouch', 'price': 0.59}, {'product brand': 'Unknown', 'product name': 'Cobb with Cheddar Salad Mini', 'price': 5.0}, {'product brand': \"Farmer's Market\", 'product name': 'Sweet Potatoes', 'price': 5.99}, {'product brand': 'Unknown', 'product name': 'White Potatoes', 'price': 2.37}, {'product brand': 'Unknown', 'product name': 'Purple Eggplants', 'price': 3.13}, {'product brand': 'Marzetti', 'product name': 'Veggie Dip, Southwest Ranch', 'price': 5.99}, {'product brand': 'No Name', 'product name': 'Raw, Unsalted Sunflower Seeds', 'price': 2.29}, {'product brand': 'Unknown', 'product name': 'Organic Collard Greens', 'price': 4.99}, {'product brand': \"President's Choice\", 'product name': 'Balsamic Vinaigrette Pouch', 'price': 0.59}, {'product brand': 'Unknown', 'product name': 'Car Cara Orange', 'price': 6.49}, {'product brand': 'Unknown', 'product name': 'Red Prince Apple', 'price': 9.99}, {'product brand': 'Unknown', 'product name': 'Eddoes', 'price': 1.32}, {'product brand': 'Unknown', 'product name': 'Vero Tomato', 'price': 6.99}, {'product brand': 'Unknown', 'product name': 'Matchstick Carrots', 'price': 2.99}, {'product brand': 'Unknown', 'product name': 'Organic Green Kale', 'price': 4.99}, {'product brand': 'PC Organics', 'product name': 'Baby Arugula', 'price': 4.99}, {'product brand': 'Unknown', 'product name': 'Shallots', 'price': 5.99}, {'product brand': 'PC Organics', 'product name': 'Organics Whole White Mushrooms', 'price': 8.99}, {'product brand': \"Farmer's Market\", 'product name': 'Greenhouse Peppers', 'price': 5.99}, {'product brand': \"President's Choice\", 'product name': 'Red Potatoes', 'price': 5.99}, {'product brand': \"Farmer's Market\", 'product name': 'Sweet Potatoes', 'price': 5.99}, {'product brand': 'Unknown', 'product name': 'Apricots', 'price': 0.92}, {'product brand': 'Unknown', 'product name': 'Wonderful Pistachios, Shelled', 'price': 8.99}, {'product brand': 'PC Organics', 'product name': 'Organics Sliced Portobello Mushrooms', 'price': 5.99}, {'product brand': \"President's Choice\", 'product name': 'Brussel Sprouts', 'price': 12.99}, {'product brand': \"President's Choice\", 'product name': 'Ruby Little Gems Potatoes', 'price': 4.99}, {'product brand': \"President's Choice\", 'product name': 'Scotch Bonnet Hot Peppers', 'price': 4.99}, {'product brand': 'Unknown', 'product name': 'Red Prince Apple', 'price': 9.99}, {'product brand': \"President's Choice\", 'product name': 'Salted California Pistachios', 'price': 10.99}, {'product brand': 'Sunrich', 'product name': 'Sun Rich Sliced Red Apples', 'price': 6.0}, {'product brand': 'Unknown', 'product name': 'White Potatoes', 'price': 2.37}, {'product brand': 'Unknown', 'product name': 'Purple Eggplants', 'price': 3.13}, {'product brand': 'Marzetti', 'product name': 'Veggie Dip, Ranch Snack Pack', 'price': 6.99}, {'product brand': 'Unknown', 'product name': 'Snack  Platter', 'price': 8.0}, {'product brand': 'Unknown', 'product name': 'Garlic, Peeled', 'price': 3.49}, {'product brand': 'PC Organics', 'product name': 'Organic Cucumber Mini', 'price': 5.99}, {'product brand': 'Greenhouse', 'product name': 'Lime Herbal Kombucha', 'price': 4.99}, {'product brand': 'PC Organics', 'product name': 'Organic Button White Mushrooms', 'price': 3.99}, {'product brand': 'Unknown', 'product name': 'Organic Leeks', 'price': 5.99}, {'product brand': 'Unknown', 'product name': 'Parsley Root', 'price': 5.99}, {'product brand': 'Bolthouse', 'product name': '100% Carrot', 'price': 10.99}, {'product brand': 'Wholly Guacamole', 'product name': 'Classic Bowl ', 'price': 5.49}, {'product brand': 'Unknown', 'product name': 'Snow Peas', 'price': 4.99}, {'product brand': \"President's Choice\", 'product name': 'Caesar Salad Kit', 'price': 7.99}, {'product brand': 'Unknown', 'product name': 'Collard Greens', 'price': 3.99}, {'product brand': 'Remedy', 'product name': 'Peach Kombucha', 'price': 5.99}, {'product brand': 'Unknown', 'product name': 'Genuine Coconut Organic Coconut Chunks', 'price': 5.99}, {'product brand': 'Unknown', 'product name': 'Mini Medjools Organic Cranberry Pistachio', 'price': 9.99}, {'product brand': 'Unknown', 'product name': 'Cabbage, Green', 'price': 4.77}, {'product brand': 'PC Organics', 'product name': 'Organics Whole Button Cremini Mushrooms', 'price': 3.99}, {'product brand': 'Unknown', 'product name': 'Organic Curled Parsley Potted', 'price': 3.99}, {'product brand': \"President's Choice\", 'product name': 'Broccoli Slaw', 'price': 4.49}, {'product brand': 'Unknown', 'product name': 'Vero Tomato', 'price': 6.99}, {'product brand': 'Unknown', 'product name': 'Matchstick Carrots', 'price': 2.99}, {'product brand': 'Unknown', 'product name': 'Organic Green Kale', 'price': 4.99}, {'product brand': 'PC Organics', 'product name': 'Baby Arugula', 'price': 4.99}, {'product brand': 'Unknown', 'product name': 'Organic Green Cabbage', 'price': 7.68}, {'product brand': 'Unknown', 'product name': 'Large Shrimp & Bacon Caesar Salad', 'price': 13.0}, {'product brand': 'Loop', 'product name': 'Cold-Pressed Juice Better Together Grapefruit Orange Ginger', 'price': 7.99}, {'product brand': \"Farmer's Market\", 'product name': 'Red Onions', 'price': 5.49}, {'product brand': \"Farmer's Market\", 'product name': 'Greenhouse Peppers', 'price': 5.99}, {'product brand': \"Farmer's Market\", 'product name': 'Roma Tomatoes', 'price': 6.99}, {'product brand': 'Unknown', 'product name': 'Abate Fetel Pears', 'price': 1.58}, {'product brand': 'Unknown', 'product name': 'Kiwis', 'price': 1.09}, {'product brand': 'Unknown', 'product name': 'Organic Swiss Chard Greens', 'price': 4.99}, {'product brand': \"President's Choice\", 'product name': 'Bacon Caesar Chop Salad Kit', 'price': 6.99}, {'product brand': 'Unknown', 'product name': 'Shallots', 'price': 5.99}, {'product brand': \"President's Choice\", 'product name': 'Balsamic Vinaigrette Pouch', 'price': 0.59}, {'product brand': 'Unknown', 'product name': 'Car Cara Orange', 'price': 6.49}, {'product brand': \"President's Choice\", 'product name': 'Scotch Bonnet Hot Peppers', 'price': 4.99}, {'product brand': 'The Little Potato Company', 'product name': 'Microwave Ready Savoury Herb Potatoes', 'price': 4.99}, {'product brand': \"President's Choice\", 'product name': 'Red Potatoes', 'price': 5.99}, {'product brand': \"President's Choice\", 'product name': 'Ruby Little Gems Potatoes', 'price': 4.99}, {'product brand': 'Unknown', 'product name': 'Eddoes', 'price': 1.32}, {'product brand': 'Unknown', 'product name': 'Shallots', 'price': 5.99}, {'product brand': \"President's Choice\", 'product name': 'Salted California Pistachios', 'price': 10.99}, {'product brand': 'Sunrich', 'product name': 'Sun Rich Sliced Red Apples', 'price': 6.0}, {'product brand': 'The Little Potato Company', 'product name': 'Oven BBQ Ready Onion Chive Potatoes', 'price': 4.99}, {'product brand': \"President's Choice\", 'product name': 'Axiany Cherry Tomatoes', 'price': 5.99}, {'product brand': 'Unknown', 'product name': 'Bio Raw, Fiesta', 'price': 12.0}, {'product brand': 'Unknown', 'product name': 'Dried Turkish Apricots', 'price': 3.49}, {'product brand': 'Unknown', 'product name': 'Caprese Salad, Family Size', 'price': 19.0}, {'product brand': 'Unknown', 'product name': 'Large Steak & Egg Salad', 'price': 13.0}, {'product brand': \"President's Choice\", 'product name': 'Cilantro', 'price': 2.99}, {'product brand': 'Greenhouse', 'product name': 'Raw, Organic Juice Farma-C', 'price': 7.99}, {'product brand': \"Farmer's Market\", 'product name': 'Empire Apples', 'price': 7.99}, {'product brand': 'Taylor Farms', 'product name': 'Chopped Salad Kit, Maple Bourbon Bacon', 'price': 6.99}, {'product brand': 'PC Organics', 'product name': 'Kale, Chard and Spinach Salad Mix', 'price': 4.99}, {'product brand': 'Duda Farms', 'product name': 'Duda Celery Sticks', 'price': 5.99}, {'product brand': 'Unknown', 'product name': 'Curly Parsley', 'price': 2.69}, {'product brand': 'Unknown', 'product name': 'Granny Smith Apples', 'price': 1.32}, {'product brand': 'Unknown', 'product name': 'Blueberries 1/2 pint', 'price': 3.99}, {'product brand': 'PC Organics', 'product name': 'Organic Black Oyster Whole Mushrooms', 'price': 3.99}, {'product brand': \"President's Choice\", 'product name': 'Broccoli Florets', 'price': 9.99}, {'product brand': 'Unknown', 'product name': 'Yellow Beans', 'price': 5.99}, {'product brand': 'PC Organics', 'product name': 'Organic Green Onions', 'price': 2.29}, {'product brand': 'Greenhouse', 'product name': 'Raw, Organic Juice Gatsby', 'price': 7.99}, {'product brand': \"President's Choice\", 'product name': 'Pencil Hot Hot Peppers', 'price': 4.99}, {'product brand': 'Paramount', 'product name': 'No shell BBQ Pistachios', 'price': 8.99}, {'product brand': 'Unknown', 'product name': 'Nectarines', 'price': 2.16}, {'product brand': 'Unknown', 'product name': 'Seedless Watermelon Sliced', 'price': 3.79}, {'product brand': 'Unknown', 'product name': 'Dates Medjool', 'price': 14.99}, {'product brand': 'Unknown', 'product name': 'Broccolini', 'price': 3.99}, {'product brand': \"President's Choice\", 'product name': 'Caesar Salad Kit', 'price': 5.99}, {'product brand': 'PC Organics', 'product name': 'Organic Thyme', 'price': 2.99}, {'product brand': 'Unknown', 'product name': 'Fresh Apple, Carrot, Beet, Lemon Juice', 'price': 13.0}, {'product brand': 'Unknown', 'product name': 'Hibiscus & Rose Hip Infused\\xa0Lemonade\\xa0', 'price': 6.0}, {'product brand': 'Unknown', 'product name': 'Pomegranate', 'price': 3.99}, {'product brand': 'PC Organics', 'product name': 'Organics Whole Oyster Mushrooms', 'price': 3.99}, {'product brand': 'Unknown', 'product name': 'Turmeric', 'price': 4.32}, {'product brand': 'The Little Potato Company', 'product name': 'Microwave Ready Garlic Parsley Potatoes', 'price': 4.99}, {'product brand': 'Unknown', 'product name': 'Organic Dates', 'price': 6.99}, {'product brand': 'Unknown', 'product name': 'Sweet Kale Salad Family Size', 'price': 17.0}, {'product brand': 'PC Organics', 'product name': 'Organic Garlic', 'price': 3.99}, {'product brand': 'No Name', 'product name': 'Naturally Imperfect Lemons 3lb Bag', 'price': 7.99}, {'product brand': 'Unknown', 'product name': 'Large House Cheddar Salad', 'price': 12.0}, {'product brand': 'Unknown', 'product name': 'Neptune Crab Salad, Mini', 'price': 5.0}, {'product brand': 'PC Organics', 'product name': 'Organic Beefsteak Red Tomato', 'price': 2.97}, {'product brand': 'Unknown', 'product name': 'Turkish Pearl Couscous Salad', 'price': 5.61}, {'product brand': 'Aurora', 'product name': 'Roasted Chestnuts', 'price': 2.99}, {'product brand': 'Earthbound Farms Organic', 'product name': 'Asian Salad', 'price': 7.49}, {'product brand': 'Manns', 'product name': 'Snap Peas', 'price': 5.99}, {'product brand': 'Unknown', 'product name': 'Watermelon Cubed Large', 'price': 10.0}, {'product brand': 'Unknown', 'product name': 'Yellow Onion', 'price': 1.54}, {'product brand': \"President's Choice\", 'product name': 'Green Beans', 'price': 5.99}, {'product brand': \"President's Choice\", 'product name': 'Poppyseed Pouch 44Ml', 'price': 0.59}, {'product brand': 'Unknown', 'product name': 'Sweet Nantes Carrots', 'price': 3.99}, {'product brand': 'Unknown', 'product name': 'Southwestern Chicken Salad, Family Size', 'price': 17.0}, {'product brand': 'Renees', 'product name': 'Mighty Caesar Dressing', 'price': 0.59}, {'product brand': 'Unknown', 'product name': 'Cantaloupe Halves', 'price': 6.0}, {'product brand': \"President's Choice\", 'product name': 'Chopped Mexican Style Street Corn Salad Kit', 'price': 6.99}, {'product brand': 'Unknown', 'product name': 'Carrots & Celery ', 'price': 6.0}, {'product brand': 'Unknown', 'product name': 'Passion Fruit', 'price': 1.99}, {'product brand': 'Unknown', 'product name': 'Yellow Beans', 'price': 5.99}, {'product brand': 'Unknown', 'product name': 'Curry Leaf (1 pack)', 'price': 2.99}, {'product brand': 'Renees', 'product name': 'Dill Refrigerated Dip', 'price': 5.49}, {'product brand': 'Unknown', 'product name': 'Dried Porcini Mushrooms    ', 'price': 5.99}, {'product brand': \"Farmer's Market\", 'product name': 'Mini Carrots', 'price': 4.99}, {'product brand': 'Paramount', 'product name': 'Wonderful Pistachios, Sweet Chili', 'price': 6.49}, {'product brand': 'Unknown', 'product name': 'Kale', 'price': 3.99}, {'product brand': \"President's Choice\", 'product name': 'Green Thai Hot Peppers', 'price': 4.99}, {'product brand': 'Bolthouse', 'product name': 'Strawberry Banana', 'price': 5.49}, {'product brand': 'Unknown', 'product name': 'Karela (1Pack)', 'price': 3.12}, {'product brand': \"Farmer's Market\", 'product name': 'McIntosh Apples', 'price': 7.99}, {'product brand': \"President's Choice\", 'product name': 'Mixed Little Gems', 'price': 4.99}, {'product brand': \"Farmer's Market\", 'product name': 'Ambrosia Apples', 'price': 8.99}, {'product brand': 'PC Organics', 'product name': 'Organic Lemons', 'price': 6.99}, {'product brand': 'Unknown', 'product name': 'The Balance', 'price': 12.0}, {'product brand': 'Unknown', 'product name': 'Premium Chicken BLT', 'price': 9.0}, {'product brand': \"President's Choice\", 'product name': 'Baby Spinach', 'price': 6.49}, {'product brand': 'Unknown', 'product name': 'Italian Parsley', 'price': 2.69}, {'product brand': 'Wholly Guacamole', 'product name': 'Minis', 'price': 6.99}, {'product brand': 'Unknown', 'product name': 'Tamarinds', 'price': 5.99}, {'product brand': 'Unknown', 'product name': 'Greenhouse Peppers, Yellow', 'price': 2.2}, {'product brand': 'PC Organics', 'product name': 'Organics Field Greens Salad Mix', 'price': 4.99}, {'product brand': 'Manns', 'product name': 'Snow Peas', 'price': 5.99}, {'product brand': 'Unknown', 'product name': 'Watermelon Wedge', 'price': 24.61}, {'product brand': 'Unknown', 'product name': 'Snack Platter Vegetables', 'price': 6.0}, {'product brand': \"President's Choice\", 'product name': 'Fresh Poultry Herb Blend', 'price': 2.99}, {'product brand': 'PC Organics', 'product name': 'Organics Baby Spinach', 'price': 7.99}, {'product brand': 'Dole', 'product name': 'Sunflower Bacon Crunch Chopped Salad Kit', 'price': 6.99}, {'product brand': 'Unknown', 'product name': 'The Chop', 'price': 12.0}, {'product brand': 'Unknown', 'product name': 'Carrots, Bunched', 'price': 3.99}, {'product brand': 'Unknown', 'product name': 'The Built', 'price': 12.0}, {'product brand': 'Unknown', 'product name': 'Red Swiss Chard', 'price': 3.99}, {'product brand': 'Unknown', 'product name': 'Mini Medjools Sweet & Salty Almond', 'price': 7.99}, {'product brand': 'PC Organics', 'product name': 'Organics Yellow Onions', 'price': 4.99}, {'product brand': 'Unknown', 'product name': 'Genuine Coconut Organic Coconut Topping', 'price': 6.99}, {'product brand': 'Unknown', 'product name': 'Potato Baking Tray', 'price': 4.99}, {'product brand': 'Unknown', 'product name': 'Large Neptune Crab Salad', 'price': 13.0}, {'product brand': 'Fresh Attitude', 'product name': 'Caesar Salad with Toppings Single Sized', 'price': 5.99}, {'product brand': 'Unknown', 'product name': 'Cello Spinach', 'price': 4.99}, {'product brand': 'PC Organics', 'product name': 'Avocados, Bag', 'price': 6.99}, {'product brand': 'Renees', 'product name': 'Ranch Refrigerated Dip', 'price': 5.49}, {'product brand': 'Unknown', 'product name': 'Blackberries 1/2 Pint', 'price': 3.99}, {'product brand': 'Unknown', 'product name': 'Pineapple Cubed Large', 'price': 10.0}, {'product brand': \"President's Choice\", 'product name': 'Fingerling Potatoes', 'price': 4.99}, {'product brand': 'Unknown', 'product name': 'Cubed Sweet Potato', 'price': 7.0}, {'product brand': 'Unknown', 'product name': 'Yellow Russet Potatoes, 10 Lbs', 'price': 6.99}, {'product brand': 'Unknown', 'product name': 'Fresh Guacamole, Small ', 'price': 5.0}, {'product brand': 'Unknown', 'product name': 'Guava', 'price': 7.71}, {'product brand': 'Gourmet Garden', 'product name': 'Lightly Dried Basil', 'price': 5.99}, {'product brand': 'POM Wonderful', 'product name': '100% Pomegranate Juice', 'price': 14.99}, {'product brand': 'Unknown', 'product name': 'Lebanese Tabbouleh Salad', 'price': 8.47}, {'product brand': 'Tiffany Gates', 'product name': 'Tiffany Gate Italian Gemelli Salad', 'price': 2.29}, {'product brand': 'Greenhouse', 'product name': 'Organic Booster Lullaby', 'price': 3.99}, {'product brand': 'PC Organics', 'product name': 'Organic King Oyster Sliced Mushrooms', 'price': 5.99}, {'product brand': 'Unknown', 'product name': 'Spinach, Bunched', 'price': 3.49}, {'product brand': 'Marzetti', 'product name': 'Caramel Dip', 'price': 5.99}, {'product brand': 'Remedy', 'product name': 'Kombucha Ginger Lemon', 'price': 5.99}, {'product brand': 'Marzetti', 'product name': 'Caramel Dip Snack', 'price': 6.49}, {'product brand': \"President's Choice\", 'product name': 'Baby Spinach', 'price': 4.99}, {'product brand': 'Taylor Farms', 'product name': 'Broccoli Crunch Salad Kit', 'price': 6.99}, {'product brand': 'Manns', 'product name': 'Snap Peas', 'price': 8.99}, {'product brand': 'PC Organics', 'product name': 'Organic Broccoli Florets', 'price': 6.99}, {'product brand': \"President's Choice\", 'product name': 'Sweet Baby Lettuce', 'price': 4.99}, {'product brand': 'Unknown', 'product name': 'The Freshh', 'price': 12.0}, {'product brand': 'Unknown', 'product name': 'Baby Spinach', 'price': 7.05}, {'product brand': 'Greenhouse', 'product name': 'Ginger Tumeric Kombucha', 'price': 4.99}, {'product brand': 'Unknown', 'product name': 'Red Seeded Watermelon', 'price': 12.99}, {'product brand': 'Unknown', 'product name': 'Organic Bartlett Pears', 'price': 8.99}, {'product brand': 'Unknown', 'product name': 'Flavour Burst Sungold Golden Kiwi', 'price': 7.99}, {'product brand': 'Unknown', 'product name': 'McIntosh Apples', 'price': 1.1}, {'product brand': 'Unknown', 'product name': 'Rapini', 'price': 3.99}, {'product brand': \"President's Choice\", 'product name': 'Live Lettuce Trio, 2-pack', 'price': 5.99}, {'product brand': 'Renees', 'product name': 'Sweet Chili Refrigerated Dip', 'price': 5.49}, {'product brand': 'PC Organics', 'product name': 'Organic Carrots', 'price': 4.69}, {'product brand': 'Unknown', 'product name': 'Organic Oregano Potted', 'price': 3.99}, {'product brand': \"Farmer's Market\", 'product name': 'Mini Potato Trio', 'price': 7.99}, {'product brand': 'Unknown', 'product name': 'Romaine Salad Family Size', 'price': 15.0}, {'product brand': 'Unknown', 'product name': 'Blood Orange Tarocco', 'price': 2.89}, {'product brand': 'Unknown', 'product name': 'Pineapple Cubed Small', 'price': 6.0}, {'product brand': 'Unknown', 'product name': 'Deluxe Bean Salad', 'price': 5.5}, {'product brand': 'Unknown', 'product name': 'Brussels Sprouts', 'price': 0.3}, {'product brand': 'Well', 'product name': 'Cold Pressed Juice Be Well  ', 'price': 5.99}, {'product brand': 'Unknown', 'product name': 'Large Caesar Salad', 'price': 12.0}, {'product brand': 'PC Organics', 'product name': 'Organics Whole Shitake Mushrooms', 'price': 4.99}, {'product brand': 'Unknown', 'product name': 'Mini Bananas, Bunch', 'price': 2.17}, {'product brand': 'Loop', 'product name': 'Morning Glory Juice    ', 'price': 7.99}, {'product brand': 'PC Blue Menu', 'product name': 'Unsalted California Pistachios ', 'price': 10.99}, {'product brand': 'Unknown', 'product name': 'Premium Garden Veg Romaine', 'price': 9.0}, {'product brand': \"Farmer's Market\", 'product name': 'Navel Oranges', 'price': 7.99}, {'product brand': 'PC Blue Menu', 'product name': 'Caesar Salad Kit', 'price': 5.99}, {'product brand': 'Unknown', 'product name': 'Mixed Dried Mushrooms', 'price': 5.99}, {'product brand': 'PC Organics', 'product name': 'Romaine Lettuce Hearts', 'price': 6.99}, {'product brand': 'PC Organics', 'product name': 'Organics Whole Cremini Mushrooms', 'price': 3.49}, {'product brand': 'Unknown', 'product name': 'Mucci, Sundrops Tomato', 'price': 3.99}, {'product brand': 'Unknown', 'product name': 'Caprese Salad, Mini', 'price': 10.0}, {'product brand': 'PC Organics', 'product name': 'Organic Mini Carrots 1lb Bag', 'price': 3.99}, {'product brand': 'No Name', 'product name': 'Roasted Peanuts In Shell', 'price': 11.99}, {'product brand': 'Bolthouse', 'product name': 'Juice, 100% Pomegranate', 'price': 13.99}, {'product brand': 'Unknown', 'product name': 'Radicchio Treviso', 'price': 11.0}, {'product brand': 'Unknown', 'product name': 'Caesar Salad Mini', 'price': 5.0}, {'product brand': 'Unknown', 'product name': 'Star Fruit', 'price': 2.99}, {'product brand': 'Bolthouse', 'product name': 'Strawberry Banana', 'price': 10.99}, {'product brand': 'PC Organics', 'product name': 'Organic Grape Tomatoes', 'price': 3.99}, {'product brand': 'Unknown', 'product name': 'Spanish Onion', 'price': 1.81}, {'product brand': 'PC Organics', 'product name': 'Organics Baby Spinach', 'price': 4.99}, {'product brand': 'Unknown', 'product name': 'The Ninja', 'price': 12.0}, {'product brand': 'Unknown', 'product name': 'Carrots', 'price': 0.71}, {'product brand': 'Unknown', 'product name': 'Plantains, Single', 'price': 1.23}, {'product brand': 'POM Wonderful', 'product name': 'Pomegranate Juice', 'price': 9.99}, {'product brand': \"President's Choice\", 'product name': 'Kale Slaw', 'price': 4.49}, {'product brand': 'Unknown', 'product name': 'Sonata, Sweet Mini Peppers', 'price': 3.99}, {'product brand': 'Unknown', 'product name': 'Mixed Melon Cubed Large', 'price': 10.0}, {'product brand': 'PC Organics', 'product name': 'Organic Baby King Oyster Mushrooms', 'price': 5.99}, {'product brand': 'GoodLeaf', 'product name': 'Pea Shoots', 'price': 4.79}, {'product brand': 'Bolthouse', 'product name': 'C-Boost', 'price': 7.49}, {'product brand': 'Unknown', 'product name': 'Okra (1 pack)', 'price': 5.08}, {'product brand': 'Unknown', 'product name': 'Mushroom Kebab, 4 pack', 'price': 10.0}, {'product brand': 'Unknown', 'product name': 'Coconuts', 'price': 2.49}, {'product brand': 'Unknown', 'product name': 'Mini Greek Salad', 'price': 5.0}, {'product brand': 'Unknown', 'product name': 'Red Beets', 'price': 4.99}, {'product brand': \"President's Choice\", 'product name': 'Live Lettuce Tri Mix - 1 Unit', 'price': 3.99}, {'product brand': 'Unknown', 'product name': 'Caribbean Sweet Potatoes', 'price': 1.36}, {'product brand': 'Remedy', 'product name': 'Kombucha Lemon Lime & Mint  ', 'price': 5.99}, {'product brand': 'PC Organics', 'product name': 'Gala Apples 3Lb Bag', 'price': 9.99}, {'product brand': 'Remedy', 'product name': 'Kombucha Wild Berry', 'price': 5.99}, {'product brand': 'Unknown', 'product name': 'Red Bananas, Bunch', 'price': 3.74}, {'product brand': 'Unknown', 'product name': 'Greenbelt Organic Fresh Mix', 'price': 5.99}, {'product brand': \"President's Choice\", 'product name': 'Baby Arugula Spinach Blend', 'price': 4.99}, {'product brand': 'Unknown', 'product name': 'Green Garlic', 'price': 5.99}, {'product brand': 'Unknown', 'product name': 'Fresh Orange, Spinach, Kale, Celery Juice', 'price': 13.0}, {'product brand': 'No Name', 'product name': 'Roasted Peanuts In Shell', 'price': 11.99}, {'product brand': 'Bolthouse', 'product name': 'Juice, 100% Pomegranate', 'price': 13.99}, {'product brand': \"President's Choice\", 'product name': 'Vegetable Medley', 'price': 5.49}, {'product brand': \"Farmer's Market\", 'product name': 'Honeycrisp Apples', 'price': 11.99}, {'product brand': 'Unknown', 'product name': 'Banana Oatmeal Granola Parfait with Mixed Berries', 'price': 5.0}, {'product brand': 'Unknown', 'product name': 'Coconut Rolled Medjool Dates', 'price': 8.99}, {'product brand': 'Unknown', 'product name': 'Radishes', 'price': 2.49}, {'product brand': 'Greenhouse', 'product name': 'Organic Booster Farma-C+', 'price': 14.99}, {'product brand': 'Paramount', 'product name': 'Pistachios No Shells Roasted Light Salt', 'price': 8.99}, {'product brand': 'Earthbound Farms Organic', 'product name': 'Chop Honey Citrus Salad', 'price': 7.49}, {'product brand': 'Unknown', 'product name': 'Horseradish', 'price': 6.94}, {'product brand': 'Unknown', 'product name': 'French Bean', 'price': 8.99}, {'product brand': 'Unknown', 'product name': 'Yellow Asian Pears', 'price': 2.46}, {'product brand': 'Paramount', 'product name': 'Wonderful Pistachios, Roasted & Salted', 'price': 6.49}, {'product brand': 'PC Organics', 'product name': 'Celery Hearts', 'price': 6.99}, {'product brand': 'Unknown', 'product name': 'Bartlett Pears', 'price': 6.99}, {'product brand': \"President's Choice\", 'product name': 'Crumbled Cauliflower', 'price': 4.99}, {'product brand': 'PC Organics', 'product name': 'Mushroom White, Sliced', 'price': 3.69}, {'product brand': 'Unknown', 'product name': 'Fuji Apples', 'price': 1.58}, {'product brand': \"President's Choice\", 'product name': 'Ready Veggie, Kale Blend', 'price': 5.99}, {'product brand': 'Unknown', 'product name': 'Escarole', 'price': 3.49}, {'product brand': 'Unknown', 'product name': 'Organic Thai Basil Potted', 'price': 3.99}, {'product brand': 'Unknown', 'product name': 'Organic Spaghetti Squash', 'price': 11.8}, {'product brand': \"President's Choice\", 'product name': '50-50 Blend - A Blend of Baby Spinach and Field Greens', 'price': 6.49}, {'product brand': 'Unknown', 'product name': 'Sweet Kale', 'price': 9.0}, {'product brand': 'Greenhouse', 'product name': 'Collagen Booster Glow Multipack', 'price': 14.99}, {'product brand': 'Unknown', 'product name': 'Root Harvest Mix (cubed Parsnip, Carrots, Butternut Squash, Yams, Red Onions, Celery)', 'price': 7.0}, {'product brand': 'PC Organics', 'product name': 'Granny Smith Apples 3Lb Bag', 'price': 11.99}, {'product brand': \"Farmer's Market\", 'product name': 'Mini Carrots', 'price': 2.69}, {'product brand': 'Unknown', 'product name': 'Hami Melons', 'price': 14.75}, {'product brand': 'Unknown', 'product name': 'White Peaches', 'price': 2.31}, {'product brand': 'Unknown', 'product name': 'Fennel', 'price': 5.49}, {'product brand': 'Unknown', 'product name': 'Grilled Chicken Caesar Salad', 'price': 2.29}, {'product brand': 'Unknown', 'product name': 'Large Greek Salad', 'price': 12.0}, {'product brand': 'Unknown', 'product name': 'Homestyle Coleslaw with Yogurt Dressing', 'price': 2.29}, {'product brand': 'Unknown', 'product name': 'Baby Bok Choy', 'price': 4.35}, {'product brand': 'PC Organics', 'product name': 'Organics Sliced Cremini Mushrooms', 'price': 3.69}, {'product brand': 'Unknown', 'product name': 'Sweet Cauliflower Tender Stems', 'price': 5.99}, {'product brand': 'Unknown', 'product name': 'Strawberry Parfait', 'price': 5.0}, {'product brand': \"President's Choice\", 'product name': 'Basil', 'price': 2.99}, {'product brand': 'GoodLeaf', 'product name': 'Good Leaf Baby Arugula', 'price': 5.99}, {'product brand': \"Farmer's Market\", 'product name': 'Ataulfo Mangoes 3 Count ', 'price': 4.99}, {'product brand': 'Unknown', 'product name': 'Organic Rosemary Potted', 'price': 3.99}, {'product brand': \"President's Choice\", 'product name': 'Jalapeno Hot Peppers', 'price': 4.99}, {'product brand': 'Unknown', 'product name': 'Bio Raw, The Shred', 'price': 12.0}, {'product brand': 'PC Organics', 'product name': 'Organic Cremini Mushrooms', 'price': 8.99}, {'product brand': 'Eat Smart', 'product name': 'Honey Dijon Kale', 'price': 6.49}, {'product brand': 'Unknown', 'product name': 'Organic Rainbow Carrots', 'price': 5.99}, {'product brand': 'Paramount', 'product name': 'Pistachios, Roasted & Unsalted', 'price': 6.49}, {'product brand': 'Paramount', 'product name': 'Pistachios No Shells Honey Roasted', 'price': 8.99}, {'product brand': \"Farmer's Market\", 'product name': 'Granny Smith Apples', 'price': 9.99}, {'product brand': 'Unknown', 'product name': 'Cauliflower Florets', 'price': 3.76}, {'product brand': 'Unknown', 'product name': 'Organic Medjool Dates', 'price': 11.99}, {'product brand': 'Unknown', 'product name': 'Golden Delicious Apples', 'price': 1.45}, {'product brand': 'Unknown', 'product name': 'Pitted Honey Dates', 'price': 6.99}, {'product brand': 'Greenhouse', 'product name': 'Fiery Ginger', 'price': 3.99}, {'product brand': 'Gourmet Garden', 'product name': 'Lightly Dried, Ginger Bowl', 'price': 5.99}, {'product brand': 'Unknown', 'product name': 'Mixed Fruit Parfait', 'price': 5.0}, {'product brand': 'Bolthouse', 'product name': 'Amazing Mango', 'price': 7.49}, {'product brand': 'Unknown', 'product name': 'Apple Cosmic Crisp', 'price': 2.11}, {'product brand': \"President's Choice\", 'product name': 'Red Thai Hot Peppers', 'price': 4.99}, {'product brand': 'Unknown', 'product name': 'Romaine Lettuce', 'price': 3.49}, {'product brand': 'Unknown', 'product name': 'Snap Peas', 'price': 4.99}, {'product brand': 'Unknown', 'product name': 'Caesar Salad Family Size', 'price': 17.0}, {'product brand': 'Unknown', 'product name': 'Green Swiss Chard', 'price': 3.99}, {'product brand': 'Tiffany Gates', 'product name': 'Classic Coleslaw', 'price': 2.29}, {'product brand': 'Unknown', 'product name': 'Organic Cilantro Bunched', 'price': 3.99}, {'product brand': \"President's Choice\", 'product name': 'Sage', 'price': 2.99}, {'product brand': 'Unknown', 'product name': 'Premium Caesar Salad', 'price': 9.0}, {'product brand': 'Unknown', 'product name': 'Butternut Squash Crinkle Fries', 'price': 7.0}, {'product brand': 'Unknown', 'product name': 'Organic, Red Kale', 'price': 4.99}, {'product brand': 'Bolthouse', 'product name': '100% Carrot', 'price': 7.49}, {'product brand': \"President's Choice\", 'product name': 'Tarragon', 'price': 2.99}, {'product brand': 'Unknown', 'product name': 'Turnips', 'price': 2.92}, {'product brand': 'Unknown', 'product name': 'Greenbelt Organic Super Crunch', 'price': 5.99}, {'product brand': 'Unknown', 'product name': 'Forelle Pears', 'price': 1.21}, {'product brand': 'Unknown', 'product name': 'Kumato Tomatoes', 'price': 6.99}, {'product brand': 'Bolthouse', 'product name': 'Red Goodness', 'price': 7.49}, {'product brand': \"President's Choice\", 'product name': 'Rosemary', 'price': 2.99}, {'product brand': 'Unknown', 'product name': 'Deluxe Neptune Salad', 'price': 2.29}, {'product brand': 'Unknown', 'product name': 'Cassava', 'price': 3.73}, {'product brand': \"President's Choice\", 'product name': 'Loads Of Garlic Caesar Salad Kit', 'price': 6.99}, {'product brand': 'Unknown', 'product name': 'Sweet Broccoli Tender Stems', 'price': 5.99}, {'product brand': \"President's Choice\", 'product name': 'Salad Kit Chopped Sesame Wonton ', 'price': 6.99}, {'product brand': 'Unknown', 'product name': 'Red Potatoes', 'price': 1.43}, {'product brand': 'Unknown', 'product name': 'Mini Medjools Organic Cranberry Pistachio', 'price': 9.99}, {'product brand': 'Unknown', 'product name': 'Cabbage, Green', 'price': 4.77}, {'product brand': 'PC Organics', 'product name': 'Organics Whole Button Cremini Mushrooms', 'price': 3.99}, {'product brand': 'Greenhouse', 'product name': 'Probiotic Hydrator Blue Lemonade', 'price': 4.99}, {'product brand': 'Unknown', 'product name': 'Organic Curled Parsley Potted', 'price': 3.99}, {'product brand': \"President's Choice\", 'product name': 'Blood Oranges', 'price': 7.99}, {'product brand': 'Unknown', 'product name': 'Organic Red Onions', 'price': 5.49}, {'product brand': \"President's Choice\", 'product name': 'Thyme ', 'price': 2.99}, {'product brand': 'Unknown', 'product name': 'Mini Seedless Watermelon', 'price': 5.99}]\n"
     ]
    }
   ],
   "source": [
    "grocery_list = []\n",
    "batch_size = 20  # number of items to process at once\n",
    "\n",
    "for i in range(0, len(groceries), batch_size):\n",
    "    batch = groceries[i:i + batch_size]\n",
    "    \n",
    "    for grocery in batch:\n",
    "        # The try/except blocks will prevent the script from crashing if it can't find an element\n",
    "        try:\n",
    "            brand = grocery.find(class_='product-name__item product-name__item--brand').text\n",
    "        except:\n",
    "            brand = \"Unknown\"\n",
    "        \n",
    "        try:\n",
    "            product = grocery.find(class_='product-name__item product-name__item--name').text\n",
    "        except:\n",
    "            product = \"Unknown\"\n",
    "        \n",
    "        try:\n",
    "            price_text = grocery.find(class_='price__value selling-price-list__item__price selling-price-list__item__price--now-price__value').text\n",
    "            price = float(re.search(r'[\\d.]+', price_text).group())\n",
    "        except:\n",
    "            price = 0.0\n",
    "\n",
    "        grocery_dict = {'product brand': brand, \"product name\": product, \"price\": price}\n",
    "        grocery_list.append(grocery_dict)\n",
    "    \n",
    "    time.sleep(2)  # add delay after processing each batch\n",
    "\n",
    "# Now grocery_list should contain your scraped data\n",
    "print(grocery_list)\n"
   ]
  },
  {
   "cell_type": "code",
   "execution_count": 143,
   "id": "d9e011c8",
   "metadata": {},
   "outputs": [],
   "source": [
    "# Close Driver\n",
    "driver.quit()"
   ]
  },
  {
   "cell_type": "markdown",
   "id": "59949a0d",
   "metadata": {},
   "source": [
    "# Convert to Pandas Dataframe"
   ]
  },
  {
   "cell_type": "code",
   "execution_count": 144,
   "id": "cddcc58e",
   "metadata": {},
   "outputs": [
    {
     "data": {
      "text/html": [
       "<div>\n",
       "<style scoped>\n",
       "    .dataframe tbody tr th:only-of-type {\n",
       "        vertical-align: middle;\n",
       "    }\n",
       "\n",
       "    .dataframe tbody tr th {\n",
       "        vertical-align: top;\n",
       "    }\n",
       "\n",
       "    .dataframe thead th {\n",
       "        text-align: right;\n",
       "    }\n",
       "</style>\n",
       "<table border=\"1\" class=\"dataframe\">\n",
       "  <thead>\n",
       "    <tr style=\"text-align: right;\">\n",
       "      <th></th>\n",
       "      <th>product brand</th>\n",
       "      <th>product name</th>\n",
       "      <th>price</th>\n",
       "    </tr>\n",
       "  </thead>\n",
       "  <tbody>\n",
       "    <tr>\n",
       "      <th>0</th>\n",
       "      <td>Unknown</td>\n",
       "      <td>Bananas, Bunch</td>\n",
       "      <td>1.75</td>\n",
       "    </tr>\n",
       "    <tr>\n",
       "      <th>1</th>\n",
       "      <td>Unknown</td>\n",
       "      <td>Strawberries 1LB</td>\n",
       "      <td>4.99</td>\n",
       "    </tr>\n",
       "    <tr>\n",
       "      <th>2</th>\n",
       "      <td>Unknown</td>\n",
       "      <td>English Cucumber</td>\n",
       "      <td>0.99</td>\n",
       "    </tr>\n",
       "    <tr>\n",
       "      <th>3</th>\n",
       "      <td>Unknown</td>\n",
       "      <td>Red Seedless Watermelon</td>\n",
       "      <td>7.99</td>\n",
       "    </tr>\n",
       "    <tr>\n",
       "      <th>4</th>\n",
       "      <td>Unknown</td>\n",
       "      <td>Green Onion</td>\n",
       "      <td>1.49</td>\n",
       "    </tr>\n",
       "    <tr>\n",
       "      <th>...</th>\n",
       "      <td>...</td>\n",
       "      <td>...</td>\n",
       "      <td>...</td>\n",
       "    </tr>\n",
       "    <tr>\n",
       "      <th>95</th>\n",
       "      <td>PC Organics</td>\n",
       "      <td>Organic Lime</td>\n",
       "      <td>6.99</td>\n",
       "    </tr>\n",
       "    <tr>\n",
       "      <th>96</th>\n",
       "      <td>Unknown</td>\n",
       "      <td>Fresh Berry Bowl, Small</td>\n",
       "      <td>7.00</td>\n",
       "    </tr>\n",
       "    <tr>\n",
       "      <th>97</th>\n",
       "      <td>President's Choice</td>\n",
       "      <td>Creamy Golden Potatoes</td>\n",
       "      <td>3.99</td>\n",
       "    </tr>\n",
       "    <tr>\n",
       "      <th>98</th>\n",
       "      <td>Unknown</td>\n",
       "      <td>Cobb Salad with Cheddar Chips</td>\n",
       "      <td>9.00</td>\n",
       "    </tr>\n",
       "    <tr>\n",
       "      <th>99</th>\n",
       "      <td>Unknown</td>\n",
       "      <td>Shrimp &amp; Bacon Caesar Salad, Mini</td>\n",
       "      <td>5.00</td>\n",
       "    </tr>\n",
       "  </tbody>\n",
       "</table>\n",
       "<p>100 rows × 3 columns</p>\n",
       "</div>"
      ],
      "text/plain": [
       "         product brand                       product name  price\n",
       "0              Unknown                     Bananas, Bunch   1.75\n",
       "1              Unknown                   Strawberries 1LB   4.99\n",
       "2              Unknown                   English Cucumber   0.99\n",
       "3              Unknown            Red Seedless Watermelon   7.99\n",
       "4              Unknown                        Green Onion   1.49\n",
       "..                 ...                                ...    ...\n",
       "95         PC Organics                       Organic Lime   6.99\n",
       "96             Unknown            Fresh Berry Bowl, Small   7.00\n",
       "97  President's Choice             Creamy Golden Potatoes   3.99\n",
       "98             Unknown      Cobb Salad with Cheddar Chips   9.00\n",
       "99             Unknown  Shrimp & Bacon Caesar Salad, Mini   5.00\n",
       "\n",
       "[100 rows x 3 columns]"
      ]
     },
     "execution_count": 144,
     "metadata": {},
     "output_type": "execute_result"
    }
   ],
   "source": [
    "loblaws_df = pd.DataFrame(grocery_list)\n",
    "loblaws_df.head(100)"
   ]
  },
  {
   "cell_type": "code",
   "execution_count": 145,
   "id": "beae2358",
   "metadata": {},
   "outputs": [
    {
     "data": {
      "text/html": [
       "<div>\n",
       "<style scoped>\n",
       "    .dataframe tbody tr th:only-of-type {\n",
       "        vertical-align: middle;\n",
       "    }\n",
       "\n",
       "    .dataframe tbody tr th {\n",
       "        vertical-align: top;\n",
       "    }\n",
       "\n",
       "    .dataframe thead th {\n",
       "        text-align: right;\n",
       "    }\n",
       "</style>\n",
       "<table border=\"1\" class=\"dataframe\">\n",
       "  <thead>\n",
       "    <tr style=\"text-align: right;\">\n",
       "      <th></th>\n",
       "      <th>product brand</th>\n",
       "      <th>product name</th>\n",
       "      <th>price</th>\n",
       "      <th>store</th>\n",
       "    </tr>\n",
       "  </thead>\n",
       "  <tbody>\n",
       "    <tr>\n",
       "      <th>0</th>\n",
       "      <td>Unknown</td>\n",
       "      <td>Bananas, Bunch</td>\n",
       "      <td>1.75</td>\n",
       "      <td>Toronto, Carlton Store</td>\n",
       "    </tr>\n",
       "    <tr>\n",
       "      <th>1</th>\n",
       "      <td>Unknown</td>\n",
       "      <td>Strawberries 1LB</td>\n",
       "      <td>4.99</td>\n",
       "      <td>Toronto, Carlton Store</td>\n",
       "    </tr>\n",
       "    <tr>\n",
       "      <th>2</th>\n",
       "      <td>Unknown</td>\n",
       "      <td>English Cucumber</td>\n",
       "      <td>0.99</td>\n",
       "      <td>Toronto, Carlton Store</td>\n",
       "    </tr>\n",
       "    <tr>\n",
       "      <th>3</th>\n",
       "      <td>Unknown</td>\n",
       "      <td>Red Seedless Watermelon</td>\n",
       "      <td>7.99</td>\n",
       "      <td>Toronto, Carlton Store</td>\n",
       "    </tr>\n",
       "    <tr>\n",
       "      <th>4</th>\n",
       "      <td>Unknown</td>\n",
       "      <td>Green Onion</td>\n",
       "      <td>1.49</td>\n",
       "      <td>Toronto, Carlton Store</td>\n",
       "    </tr>\n",
       "  </tbody>\n",
       "</table>\n",
       "</div>"
      ],
      "text/plain": [
       "  product brand             product name  price                   store\n",
       "0       Unknown           Bananas, Bunch   1.75  Toronto, Carlton Store\n",
       "1       Unknown         Strawberries 1LB   4.99  Toronto, Carlton Store\n",
       "2       Unknown         English Cucumber   0.99  Toronto, Carlton Store\n",
       "3       Unknown  Red Seedless Watermelon   7.99  Toronto, Carlton Store\n",
       "4       Unknown              Green Onion   1.49  Toronto, Carlton Store"
      ]
     },
     "execution_count": 145,
     "metadata": {},
     "output_type": "execute_result"
    }
   ],
   "source": [
    "loblaws_df['store'] = 'Toronto, Carlton Store'\n",
    "loblaws_df.head()"
   ]
  },
  {
   "cell_type": "code",
   "execution_count": 146,
   "id": "e229bf00",
   "metadata": {},
   "outputs": [
    {
     "name": "stdout",
     "output_type": "stream",
     "text": [
      "674\n"
     ]
    }
   ],
   "source": [
    "print(len(loblaws_df))"
   ]
  },
  {
   "cell_type": "code",
   "execution_count": 147,
   "id": "51aee56f",
   "metadata": {},
   "outputs": [
    {
     "data": {
      "text/plain": [
       "array(['Unknown', \"Farmer's Market\", 'PC Organics', \"President's Choice\",\n",
       "       'Rooster', 'The Little Potato Company', 'Fresh Attitude',\n",
       "       'Greenhouse', 'Aurora', 'Taylor Farms', 'Litehouse', 'No Name',\n",
       "       'Renees', 'Paramount', 'Marzetti', 'Bolthouse', 'Gourmet Garden',\n",
       "       'Tiffany Gates', 'GoodLeaf', 'Love Beets', 'Loop', '7D', 'Sunrich',\n",
       "       'Eat Smart', 'Dole', 'Earthbound Farms Organic', 'Well',\n",
       "       'Wholly Guacamole', 'Remedy', 'Duda Farms', 'Manns',\n",
       "       'POM Wonderful', 'PC Blue Menu'], dtype=object)"
      ]
     },
     "execution_count": 147,
     "metadata": {},
     "output_type": "execute_result"
    }
   ],
   "source": [
    "loblaws_df['product brand'].unique()"
   ]
  },
  {
   "cell_type": "code",
   "execution_count": 148,
   "id": "33871ee6",
   "metadata": {},
   "outputs": [],
   "source": [
    "loblaws_df.to_csv('Loblaws_Toronto_Data.csv', index=False)"
   ]
  },
  {
   "cell_type": "code",
   "execution_count": null,
   "id": "b48eaa01",
   "metadata": {},
   "outputs": [],
   "source": []
  }
 ],
 "metadata": {
  "kernelspec": {
   "display_name": "Python 3 (ipykernel)",
   "language": "python",
   "name": "python3"
  },
  "language_info": {
   "codemirror_mode": {
    "name": "ipython",
    "version": 3
   },
   "file_extension": ".py",
   "mimetype": "text/x-python",
   "name": "python",
   "nbconvert_exporter": "python",
   "pygments_lexer": "ipython3",
   "version": "3.9.13"
  }
 },
 "nbformat": 4,
 "nbformat_minor": 5
}
