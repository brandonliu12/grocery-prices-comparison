{
 "cells": [
  {
   "cell_type": "code",
   "execution_count": 2,
   "id": "a4c4c1ea",
   "metadata": {},
   "outputs": [
    {
     "name": "stderr",
     "output_type": "stream",
     "text": [
      "C:\\Users\\Pradivan\\AppData\\Local\\Temp\\ipykernel_5624\\3032757817.py:11: DeprecationWarning: executable_path has been deprecated, please pass in a Service object\n",
      "  driver = webdriver.Chrome(executable_path=executable_path)\n"
     ]
    }
   ],
   "source": [
    "import time\n",
    "import pandas as pd\n",
    "from selenium import webdriver\n",
    "from selenium.webdriver.support.ui import WebDriverWait\n",
    "from selenium.webdriver.support import expected_conditions as EC\n",
    "from selenium.webdriver.common.by import By\n",
    "from selenium.common.exceptions import NoSuchElementException\n",
    "import re\n",
    "\n",
    "executable_path = r\"C:\\Program Files\\Common Files\\chromedriver_win32\\chromedriver.exe\"\n",
    "driver = webdriver.Chrome(executable_path=executable_path)\n",
    "\n",
    "url = 'https://www.loblaws.ca/food/fruits-vegetables/c/28000?navid=flyout-L2-fruits-vegetables'\n",
    "driver.get(url)\n",
    "\n",
    "grocery_list = []\n",
    "\n",
    "while True:\n",
    "    # Wait for the groceries to load\n",
    "    wait = WebDriverWait(driver, 20)\n",
    "    groceries = wait.until(EC.presence_of_all_elements_located((By.CLASS_NAME, 'product-tracking')))\n",
    "    \n",
    "    for grocery in groceries:\n",
    "        try:\n",
    "            brand = grocery.find_element(By.CLASS_NAME, 'product-name__item--brand').text\n",
    "        except:\n",
    "            brand = \"Unknown\"\n",
    "\n",
    "        try:\n",
    "            product = grocery.find_element(By.CLASS_NAME, 'product-name__item--name').text\n",
    "        except:\n",
    "            product = \"Unknown\"\n",
    "\n",
    "        try:\n",
    "            price_text = grocery.find_element(By.CLASS_NAME, 'selling-price-list__item__price--now-price__value').text\n",
    "            price = float(re.search(r'[\\d.]+', price_text).group())\n",
    "        except:\n",
    "            price = 0.0\n",
    "\n",
    "        grocery_dict = {'product brand': brand, \"product name\": product, \"price\": price, \"store name\": \"Loblaws\"}\n",
    "        grocery_list.append(grocery_dict)\n",
    "    \n",
    "    try:\n",
    "        # Scroll to the end of the page\n",
    "        driver.execute_script(\"window.scrollTo(0, document.body.scrollHeight);\")\n",
    "        time.sleep(2)  # Wait for the page to load\n",
    "        \n",
    "        # Find the \"Load More\" button\n",
    "        load_more_button = driver.find_element(By.CSS_SELECTOR, '.primary-button.primary-button--load-more-button')\n",
    "        if load_more_button.is_displayed():\n",
    "            load_more_button.click()\n",
    "        else:\n",
    "            break\n",
    "    except NoSuchElementException:\n",
    "        break\n",
    "    except Exception as e:\n",
    "        print(str(e))\n",
    "        break\n"
   ]
  },
  {
   "cell_type": "code",
   "execution_count": 3,
   "id": "4b2772ba",
   "metadata": {},
   "outputs": [],
   "source": [
    "driver.quit()"
   ]
  },
  {
   "cell_type": "code",
   "execution_count": 4,
   "id": "2b46f7c3",
   "metadata": {},
   "outputs": [
    {
     "name": "stdout",
     "output_type": "stream",
     "text": [
      "     product brand             product name  price store name\n",
      "0          Unknown           Bananas, Bunch   1.75    Loblaws\n",
      "1          Unknown         English Cucumber   1.29    Loblaws\n",
      "2          Unknown  Red Seedless Watermelon   7.99    Loblaws\n",
      "3          Unknown              Green Onion   1.49    Loblaws\n",
      "4          Unknown             Red Cherries   7.83    Loblaws\n",
      "...            ...                      ...    ...        ...\n",
      "5711       Unknown    Organic Green Cabbage   7.68    Loblaws\n",
      "5712       Unknown   Taiwanese Flat Cabbage   4.96    Loblaws\n",
      "5713   PC Organics             Baby Arugula   4.99    Loblaws\n",
      "5714       Unknown              Red Cabbage   4.96    Loblaws\n",
      "5715   PC Organics         Organic Rosemary   2.99    Loblaws\n",
      "\n",
      "[5716 rows x 4 columns]\n"
     ]
    }
   ],
   "source": [
    "import pandas as pd\n",
    "\n",
    "# Convert the grocery_list to a pandas DataFrame\n",
    "df = pd.DataFrame(grocery_list)\n",
    "\n",
    "# Print the DataFrame\n",
    "print(df)"
   ]
  }
 ],
 "metadata": {
  "kernelspec": {
   "display_name": "Python 3 (ipykernel)",
   "language": "python",
   "name": "python3"
  },
  "language_info": {
   "codemirror_mode": {
    "name": "ipython",
    "version": 3
   },
   "file_extension": ".py",
   "mimetype": "text/x-python",
   "name": "python",
   "nbconvert_exporter": "python",
   "pygments_lexer": "ipython3",
   "version": "3.9.13"
  }
 },
 "nbformat": 4,
 "nbformat_minor": 5
}
