{
 "cells": [
  {
   "cell_type": "code",
   "execution_count": 23,
   "id": "3e3b432d",
   "metadata": {},
   "outputs": [
    {
     "name": "stderr",
     "output_type": "stream",
     "text": [
      "/var/folders/1x/ccg38sf91tv42hpfcx42ytkw0000gn/T/ipykernel_79477/2054320766.py:11: DeprecationWarning: executable_path has been deprecated, please pass in a Service object\n",
      "  driver = webdriver.Chrome(executable_path=executable_path)\n"
     ]
    }
   ],
   "source": [
    "import time\n",
    "import pandas as pd\n",
    "from selenium import webdriver\n",
    "from selenium.webdriver.support.ui import WebDriverWait\n",
    "from selenium.webdriver.support import expected_conditions as EC\n",
    "from selenium.webdriver.common.by import By\n",
    "from selenium.common.exceptions import NoSuchElementException\n",
    "from selenium.webdriver.common.keys import Keys\n",
    "\n",
    "executable_path =  '/Users/mahreenayaz/Downloads/chromedriver_mac64/chromedriver'\n",
    "driver = webdriver.Chrome(executable_path=executable_path)\n",
    "\n",
    "locations = ['BREWERY DISTRICT CITY MARKET', 'LONSDALE CITY MARKET', 'CARLTON STREET', 'RIDEAU STREET']  # Add your desired locations here\n",
    "\n",
    "grocery_list = []\n",
    "\n",
    "\n",
    "\n",
    "   \n"
   ]
  },
  {
   "cell_type": "code",
   "execution_count": null,
   "id": "f6f7b07f",
   "metadata": {},
   "outputs": [],
   "source": [
    "for location in locations:\n",
    "    formatted_location = location.lower().replace(\" \", \"-\")\n",
    "    url = f'https://www.loblaws.ca/store-locator?type=store&icta=pickup-details-modal&address={formatted_location}'\n",
    "    driver.get(url)\n",
    "\n",
    "    # Wait for the location search input field to be visible\n",
    "    wait = WebDriverWait(driver, 200)\n",
    "    search_input = wait.until(EC.visibility_of_element_located((By.CSS_SELECTOR, '#location-search__search__input')))\n",
    "\n",
    "    # Clear the input field if it already has a value\n",
    "    search_input.clear()\n",
    "\n",
    "    # Enter the desired address or location\n",
    "    search_input.send_keys(location)\n",
    "\n",
    "    # Press Enter to perform the search\n",
    "    search_input.send_keys(Keys.ENTER)\n",
    "\n",
    "    try:\n",
    "        # Wait for the select location button to be clickable\n",
    "        wait.until(EC.element_to_be_clickable((By.CSS_SELECTOR, 'button.location-set-store__button')))\n",
    "\n",
    "        select_location_button = driver.find_element(By.CSS_SELECTOR, 'button.location-set-store__button')\n",
    "        select_location_button.click()\n",
    "\n",
    "        # Wait for the continue shopping button to be clickable\n",
    "        wait.until(EC.element_to_be_clickable((By.CSS_SELECTOR, 'a.fulfillment-location-confirmation__actions__button')))\n",
    "\n",
    "        continue_shopping_button = driver.find_element(By.CSS_SELECTOR, 'a.fulfillment-location-confirmation__actions__button')\n",
    "        continue_shopping_button.click()\n",
    "\n",
    "        # Rest of the code to fetch grocery information\n",
    "        # ...\n",
    "    except NoSuchElementException:\n",
    "        print(f\"Location '{location}' not found\")\n",
    "\n"
   ]
  }
 ],
 "metadata": {
  "kernelspec": {
   "display_name": "Python 3 (ipykernel)",
   "language": "python",
   "name": "python3"
  },
  "language_info": {
   "codemirror_mode": {
    "name": "ipython",
    "version": 3
   },
   "file_extension": ".py",
   "mimetype": "text/x-python",
   "name": "python",
   "nbconvert_exporter": "python",
   "pygments_lexer": "ipython3",
   "version": "3.9.13"
  }
 },
 "nbformat": 4,
 "nbformat_minor": 5
}
